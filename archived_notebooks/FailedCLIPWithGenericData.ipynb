{
  "cells": [
    {
      "cell_type": "markdown",
      "metadata": {},
      "source": [
        "Note for those in Github: This notebook contains a failed attempt at using CLIP Embeddings for multimodal retrieval. It fails because our image data at this point is super niche (simple diagrams of specific bee parts), so, CLIP doesn't know what to do with it. The biggest symptom of it not working is that the retrieval is super biased towards text embeddings (it won't retrieve image embeddings, no matter the query), probably because the image embeddings were generated poorly. SO, this notebook is mainly just here for the sake of bookkeeping. However, if we get more generic image data, this notebook may be good a resource. Also, be weary of the tests at the end, they were written half heartedly after we knew that CLIP was a sinking ship.\n",
        "\n",
        "PS: If you do ultimately get new, generic image data, consider checking out BioCLIP"
      ]
    },
    {
      "cell_type": "markdown",
      "metadata": {
        "id": "-aTnLreQ_nyZ"
      },
      "source": [
        "## In this project, we are going to read in image and text data from an AWS s3 Bucket. Then, we will embed them into the same ChromaDB vector store using the Transformers library and `openai/clip-vit-base-patch32`"
      ]
    },
    {
      "cell_type": "markdown",
      "metadata": {
        "id": "Gg08jS6y_9fy"
      },
      "source": [
        "### First, we will install the necessary packages"
      ]
    },
    {
      "cell_type": "code",
      "execution_count": null,
      "metadata": {
        "colab": {
          "base_uri": "https://localhost:8080/"
        },
        "collapsed": true,
        "id": "RD4bqrTLBJ0N",
        "outputId": "53e46286-1f1a-411d-ad4b-4cc3a9e1486e"
      },
      "outputs": [
        {
          "name": "stdout",
          "output_type": "stream",
          "text": [
            "Requirement already satisfied: boto3 in /usr/local/lib/python3.11/dist-packages (1.36.21)\n",
            "Requirement already satisfied: botocore<1.37.0,>=1.36.21 in /usr/local/lib/python3.11/dist-packages (from boto3) (1.36.21)\n",
            "Requirement already satisfied: jmespath<2.0.0,>=0.7.1 in /usr/local/lib/python3.11/dist-packages (from boto3) (1.0.1)\n",
            "Requirement already satisfied: s3transfer<0.12.0,>=0.11.0 in /usr/local/lib/python3.11/dist-packages (from boto3) (0.11.2)\n",
            "Requirement already satisfied: python-dateutil<3.0.0,>=2.1 in /usr/local/lib/python3.11/dist-packages (from botocore<1.37.0,>=1.36.21->boto3) (2.8.2)\n",
            "Requirement already satisfied: urllib3!=2.2.0,<3,>=1.25.4 in /usr/local/lib/python3.11/dist-packages (from botocore<1.37.0,>=1.36.21->boto3) (2.3.0)\n",
            "Requirement already satisfied: six>=1.5 in /usr/local/lib/python3.11/dist-packages (from python-dateutil<3.0.0,>=2.1->botocore<1.37.0,>=1.36.21->boto3) (1.17.0)\n",
            "Requirement already satisfied: PyPDF2 in /usr/local/lib/python3.11/dist-packages (3.0.1)\n",
            "Requirement already satisfied: langchain in /usr/local/lib/python3.11/dist-packages (0.3.18)\n",
            "Requirement already satisfied: langchain-core<1.0.0,>=0.3.34 in /usr/local/lib/python3.11/dist-packages (from langchain) (0.3.35)\n",
            "Requirement already satisfied: langchain-text-splitters<1.0.0,>=0.3.6 in /usr/local/lib/python3.11/dist-packages (from langchain) (0.3.6)\n",
            "Requirement already satisfied: langsmith<0.4,>=0.1.17 in /usr/local/lib/python3.11/dist-packages (from langchain) (0.3.8)\n",
            "Requirement already satisfied: pydantic<3.0.0,>=2.7.4 in /usr/local/lib/python3.11/dist-packages (from langchain) (2.10.6)\n",
            "Requirement already satisfied: SQLAlchemy<3,>=1.4 in /usr/local/lib/python3.11/dist-packages (from langchain) (2.0.38)\n",
            "Requirement already satisfied: requests<3,>=2 in /usr/local/lib/python3.11/dist-packages (from langchain) (2.32.3)\n",
            "Requirement already satisfied: PyYAML>=5.3 in /usr/local/lib/python3.11/dist-packages (from langchain) (6.0.2)\n",
            "Requirement already satisfied: aiohttp<4.0.0,>=3.8.3 in /usr/local/lib/python3.11/dist-packages (from langchain) (3.11.12)\n",
            "Requirement already satisfied: tenacity!=8.4.0,<10,>=8.1.0 in /usr/local/lib/python3.11/dist-packages (from langchain) (9.0.0)\n",
            "Requirement already satisfied: numpy<2,>=1.26.4 in /usr/local/lib/python3.11/dist-packages (from langchain) (1.26.4)\n",
            "Requirement already satisfied: aiohappyeyeballs>=2.3.0 in /usr/local/lib/python3.11/dist-packages (from aiohttp<4.0.0,>=3.8.3->langchain) (2.4.6)\n",
            "Requirement already satisfied: aiosignal>=1.1.2 in /usr/local/lib/python3.11/dist-packages (from aiohttp<4.0.0,>=3.8.3->langchain) (1.3.2)\n",
            "Requirement already satisfied: attrs>=17.3.0 in /usr/local/lib/python3.11/dist-packages (from aiohttp<4.0.0,>=3.8.3->langchain) (25.1.0)\n",
            "Requirement already satisfied: frozenlist>=1.1.1 in /usr/local/lib/python3.11/dist-packages (from aiohttp<4.0.0,>=3.8.3->langchain) (1.5.0)\n",
            "Requirement already satisfied: multidict<7.0,>=4.5 in /usr/local/lib/python3.11/dist-packages (from aiohttp<4.0.0,>=3.8.3->langchain) (6.1.0)\n",
            "Requirement already satisfied: propcache>=0.2.0 in /usr/local/lib/python3.11/dist-packages (from aiohttp<4.0.0,>=3.8.3->langchain) (0.2.1)\n",
            "Requirement already satisfied: yarl<2.0,>=1.17.0 in /usr/local/lib/python3.11/dist-packages (from aiohttp<4.0.0,>=3.8.3->langchain) (1.18.3)\n",
            "Requirement already satisfied: jsonpatch<2.0,>=1.33 in /usr/local/lib/python3.11/dist-packages (from langchain-core<1.0.0,>=0.3.34->langchain) (1.33)\n",
            "Requirement already satisfied: packaging<25,>=23.2 in /usr/local/lib/python3.11/dist-packages (from langchain-core<1.0.0,>=0.3.34->langchain) (24.2)\n",
            "Requirement already satisfied: typing-extensions>=4.7 in /usr/local/lib/python3.11/dist-packages (from langchain-core<1.0.0,>=0.3.34->langchain) (4.12.2)\n",
            "Requirement already satisfied: httpx<1,>=0.23.0 in /usr/local/lib/python3.11/dist-packages (from langsmith<0.4,>=0.1.17->langchain) (0.28.1)\n",
            "Requirement already satisfied: orjson<4.0.0,>=3.9.14 in /usr/local/lib/python3.11/dist-packages (from langsmith<0.4,>=0.1.17->langchain) (3.10.15)\n",
            "Requirement already satisfied: requests-toolbelt<2.0.0,>=1.0.0 in /usr/local/lib/python3.11/dist-packages (from langsmith<0.4,>=0.1.17->langchain) (1.0.0)\n",
            "Requirement already satisfied: zstandard<0.24.0,>=0.23.0 in /usr/local/lib/python3.11/dist-packages (from langsmith<0.4,>=0.1.17->langchain) (0.23.0)\n",
            "Requirement already satisfied: annotated-types>=0.6.0 in /usr/local/lib/python3.11/dist-packages (from pydantic<3.0.0,>=2.7.4->langchain) (0.7.0)\n",
            "Requirement already satisfied: pydantic-core==2.27.2 in /usr/local/lib/python3.11/dist-packages (from pydantic<3.0.0,>=2.7.4->langchain) (2.27.2)\n",
            "Requirement already satisfied: charset-normalizer<4,>=2 in /usr/local/lib/python3.11/dist-packages (from requests<3,>=2->langchain) (3.4.1)\n",
            "Requirement already satisfied: idna<4,>=2.5 in /usr/local/lib/python3.11/dist-packages (from requests<3,>=2->langchain) (3.10)\n",
            "Requirement already satisfied: urllib3<3,>=1.21.1 in /usr/local/lib/python3.11/dist-packages (from requests<3,>=2->langchain) (2.3.0)\n",
            "Requirement already satisfied: certifi>=2017.4.17 in /usr/local/lib/python3.11/dist-packages (from requests<3,>=2->langchain) (2025.1.31)\n",
            "Requirement already satisfied: greenlet!=0.4.17 in /usr/local/lib/python3.11/dist-packages (from SQLAlchemy<3,>=1.4->langchain) (3.1.1)\n",
            "Requirement already satisfied: anyio in /usr/local/lib/python3.11/dist-packages (from httpx<1,>=0.23.0->langsmith<0.4,>=0.1.17->langchain) (3.7.1)\n",
            "Requirement already satisfied: httpcore==1.* in /usr/local/lib/python3.11/dist-packages (from httpx<1,>=0.23.0->langsmith<0.4,>=0.1.17->langchain) (1.0.7)\n",
            "Requirement already satisfied: h11<0.15,>=0.13 in /usr/local/lib/python3.11/dist-packages (from httpcore==1.*->httpx<1,>=0.23.0->langsmith<0.4,>=0.1.17->langchain) (0.14.0)\n",
            "Requirement already satisfied: jsonpointer>=1.9 in /usr/local/lib/python3.11/dist-packages (from jsonpatch<2.0,>=1.33->langchain-core<1.0.0,>=0.3.34->langchain) (3.0.0)\n",
            "Requirement already satisfied: sniffio>=1.1 in /usr/local/lib/python3.11/dist-packages (from anyio->httpx<1,>=0.23.0->langsmith<0.4,>=0.1.17->langchain) (1.3.1)\n",
            "Requirement already satisfied: langchain_community in /usr/local/lib/python3.11/dist-packages (0.3.17)\n",
            "Requirement already satisfied: langchain-core<1.0.0,>=0.3.34 in /usr/local/lib/python3.11/dist-packages (from langchain_community) (0.3.35)\n",
            "Requirement already satisfied: langchain<1.0.0,>=0.3.18 in /usr/local/lib/python3.11/dist-packages (from langchain_community) (0.3.18)\n",
            "Requirement already satisfied: SQLAlchemy<3,>=1.4 in /usr/local/lib/python3.11/dist-packages (from langchain_community) (2.0.38)\n",
            "Requirement already satisfied: requests<3,>=2 in /usr/local/lib/python3.11/dist-packages (from langchain_community) (2.32.3)\n",
            "Requirement already satisfied: PyYAML>=5.3 in /usr/local/lib/python3.11/dist-packages (from langchain_community) (6.0.2)\n",
            "Requirement already satisfied: aiohttp<4.0.0,>=3.8.3 in /usr/local/lib/python3.11/dist-packages (from langchain_community) (3.11.12)\n",
            "Requirement already satisfied: tenacity!=8.4.0,<10,>=8.1.0 in /usr/local/lib/python3.11/dist-packages (from langchain_community) (9.0.0)\n",
            "Requirement already satisfied: dataclasses-json<0.7,>=0.5.7 in /usr/local/lib/python3.11/dist-packages (from langchain_community) (0.6.7)\n",
            "Requirement already satisfied: pydantic-settings<3.0.0,>=2.4.0 in /usr/local/lib/python3.11/dist-packages (from langchain_community) (2.7.1)\n",
            "Requirement already satisfied: langsmith<0.4,>=0.1.125 in /usr/local/lib/python3.11/dist-packages (from langchain_community) (0.3.8)\n",
            "Requirement already satisfied: httpx-sse<1.0.0,>=0.4.0 in /usr/local/lib/python3.11/dist-packages (from langchain_community) (0.4.0)\n",
            "Requirement already satisfied: numpy<2,>=1.26.4 in /usr/local/lib/python3.11/dist-packages (from langchain_community) (1.26.4)\n",
            "Requirement already satisfied: aiohappyeyeballs>=2.3.0 in /usr/local/lib/python3.11/dist-packages (from aiohttp<4.0.0,>=3.8.3->langchain_community) (2.4.6)\n",
            "Requirement already satisfied: aiosignal>=1.1.2 in /usr/local/lib/python3.11/dist-packages (from aiohttp<4.0.0,>=3.8.3->langchain_community) (1.3.2)\n",
            "Requirement already satisfied: attrs>=17.3.0 in /usr/local/lib/python3.11/dist-packages (from aiohttp<4.0.0,>=3.8.3->langchain_community) (25.1.0)\n",
            "Requirement already satisfied: frozenlist>=1.1.1 in /usr/local/lib/python3.11/dist-packages (from aiohttp<4.0.0,>=3.8.3->langchain_community) (1.5.0)\n",
            "Requirement already satisfied: multidict<7.0,>=4.5 in /usr/local/lib/python3.11/dist-packages (from aiohttp<4.0.0,>=3.8.3->langchain_community) (6.1.0)\n",
            "Requirement already satisfied: propcache>=0.2.0 in /usr/local/lib/python3.11/dist-packages (from aiohttp<4.0.0,>=3.8.3->langchain_community) (0.2.1)\n",
            "Requirement already satisfied: yarl<2.0,>=1.17.0 in /usr/local/lib/python3.11/dist-packages (from aiohttp<4.0.0,>=3.8.3->langchain_community) (1.18.3)\n",
            "Requirement already satisfied: marshmallow<4.0.0,>=3.18.0 in /usr/local/lib/python3.11/dist-packages (from dataclasses-json<0.7,>=0.5.7->langchain_community) (3.26.1)\n",
            "Requirement already satisfied: typing-inspect<1,>=0.4.0 in /usr/local/lib/python3.11/dist-packages (from dataclasses-json<0.7,>=0.5.7->langchain_community) (0.9.0)\n",
            "Requirement already satisfied: langchain-text-splitters<1.0.0,>=0.3.6 in /usr/local/lib/python3.11/dist-packages (from langchain<1.0.0,>=0.3.18->langchain_community) (0.3.6)\n",
            "Requirement already satisfied: pydantic<3.0.0,>=2.7.4 in /usr/local/lib/python3.11/dist-packages (from langchain<1.0.0,>=0.3.18->langchain_community) (2.10.6)\n",
            "Requirement already satisfied: jsonpatch<2.0,>=1.33 in /usr/local/lib/python3.11/dist-packages (from langchain-core<1.0.0,>=0.3.34->langchain_community) (1.33)\n",
            "Requirement already satisfied: packaging<25,>=23.2 in /usr/local/lib/python3.11/dist-packages (from langchain-core<1.0.0,>=0.3.34->langchain_community) (24.2)\n",
            "Requirement already satisfied: typing-extensions>=4.7 in /usr/local/lib/python3.11/dist-packages (from langchain-core<1.0.0,>=0.3.34->langchain_community) (4.12.2)\n",
            "Requirement already satisfied: httpx<1,>=0.23.0 in /usr/local/lib/python3.11/dist-packages (from langsmith<0.4,>=0.1.125->langchain_community) (0.28.1)\n",
            "Requirement already satisfied: orjson<4.0.0,>=3.9.14 in /usr/local/lib/python3.11/dist-packages (from langsmith<0.4,>=0.1.125->langchain_community) (3.10.15)\n",
            "Requirement already satisfied: requests-toolbelt<2.0.0,>=1.0.0 in /usr/local/lib/python3.11/dist-packages (from langsmith<0.4,>=0.1.125->langchain_community) (1.0.0)\n",
            "Requirement already satisfied: zstandard<0.24.0,>=0.23.0 in /usr/local/lib/python3.11/dist-packages (from langsmith<0.4,>=0.1.125->langchain_community) (0.23.0)\n",
            "Requirement already satisfied: python-dotenv>=0.21.0 in /usr/local/lib/python3.11/dist-packages (from pydantic-settings<3.0.0,>=2.4.0->langchain_community) (1.0.1)\n",
            "Requirement already satisfied: charset-normalizer<4,>=2 in /usr/local/lib/python3.11/dist-packages (from requests<3,>=2->langchain_community) (3.4.1)\n",
            "Requirement already satisfied: idna<4,>=2.5 in /usr/local/lib/python3.11/dist-packages (from requests<3,>=2->langchain_community) (3.10)\n",
            "Requirement already satisfied: urllib3<3,>=1.21.1 in /usr/local/lib/python3.11/dist-packages (from requests<3,>=2->langchain_community) (2.3.0)\n",
            "Requirement already satisfied: certifi>=2017.4.17 in /usr/local/lib/python3.11/dist-packages (from requests<3,>=2->langchain_community) (2025.1.31)\n",
            "Requirement already satisfied: greenlet!=0.4.17 in /usr/local/lib/python3.11/dist-packages (from SQLAlchemy<3,>=1.4->langchain_community) (3.1.1)\n",
            "Requirement already satisfied: anyio in /usr/local/lib/python3.11/dist-packages (from httpx<1,>=0.23.0->langsmith<0.4,>=0.1.125->langchain_community) (3.7.1)\n",
            "Requirement already satisfied: httpcore==1.* in /usr/local/lib/python3.11/dist-packages (from httpx<1,>=0.23.0->langsmith<0.4,>=0.1.125->langchain_community) (1.0.7)\n",
            "Requirement already satisfied: h11<0.15,>=0.13 in /usr/local/lib/python3.11/dist-packages (from httpcore==1.*->httpx<1,>=0.23.0->langsmith<0.4,>=0.1.125->langchain_community) (0.14.0)\n",
            "Requirement already satisfied: jsonpointer>=1.9 in /usr/local/lib/python3.11/dist-packages (from jsonpatch<2.0,>=1.33->langchain-core<1.0.0,>=0.3.34->langchain_community) (3.0.0)\n",
            "Requirement already satisfied: annotated-types>=0.6.0 in /usr/local/lib/python3.11/dist-packages (from pydantic<3.0.0,>=2.7.4->langchain<1.0.0,>=0.3.18->langchain_community) (0.7.0)\n",
            "Requirement already satisfied: pydantic-core==2.27.2 in /usr/local/lib/python3.11/dist-packages (from pydantic<3.0.0,>=2.7.4->langchain<1.0.0,>=0.3.18->langchain_community) (2.27.2)\n",
            "Requirement already satisfied: mypy-extensions>=0.3.0 in /usr/local/lib/python3.11/dist-packages (from typing-inspect<1,>=0.4.0->dataclasses-json<0.7,>=0.5.7->langchain_community) (1.0.0)\n",
            "Requirement already satisfied: sniffio>=1.1 in /usr/local/lib/python3.11/dist-packages (from anyio->httpx<1,>=0.23.0->langsmith<0.4,>=0.1.125->langchain_community) (1.3.1)\n",
            "Requirement already satisfied: chromadb in /usr/local/lib/python3.11/dist-packages (0.6.3)\n",
            "Requirement already satisfied: build>=1.0.3 in /usr/local/lib/python3.11/dist-packages (from chromadb) (1.2.2.post1)\n",
            "Requirement already satisfied: pydantic>=1.9 in /usr/local/lib/python3.11/dist-packages (from chromadb) (2.10.6)\n",
            "Requirement already satisfied: chroma-hnswlib==0.7.6 in /usr/local/lib/python3.11/dist-packages (from chromadb) (0.7.6)\n",
            "Requirement already satisfied: fastapi>=0.95.2 in /usr/local/lib/python3.11/dist-packages (from chromadb) (0.115.8)\n",
            "Requirement already satisfied: uvicorn>=0.18.3 in /usr/local/lib/python3.11/dist-packages (from uvicorn[standard]>=0.18.3->chromadb) (0.34.0)\n",
            "Requirement already satisfied: numpy>=1.22.5 in /usr/local/lib/python3.11/dist-packages (from chromadb) (1.26.4)\n",
            "Requirement already satisfied: posthog>=2.4.0 in /usr/local/lib/python3.11/dist-packages (from chromadb) (3.13.0)\n",
            "Requirement already satisfied: typing_extensions>=4.5.0 in /usr/local/lib/python3.11/dist-packages (from chromadb) (4.12.2)\n",
            "Requirement already satisfied: onnxruntime>=1.14.1 in /usr/local/lib/python3.11/dist-packages (from chromadb) (1.20.1)\n",
            "Requirement already satisfied: opentelemetry-api>=1.2.0 in /usr/local/lib/python3.11/dist-packages (from chromadb) (1.30.0)\n",
            "Requirement already satisfied: opentelemetry-exporter-otlp-proto-grpc>=1.2.0 in /usr/local/lib/python3.11/dist-packages (from chromadb) (1.30.0)\n",
            "Requirement already satisfied: opentelemetry-instrumentation-fastapi>=0.41b0 in /usr/local/lib/python3.11/dist-packages (from chromadb) (0.51b0)\n",
            "Requirement already satisfied: opentelemetry-sdk>=1.2.0 in /usr/local/lib/python3.11/dist-packages (from chromadb) (1.30.0)\n",
            "Requirement already satisfied: tokenizers>=0.13.2 in /usr/local/lib/python3.11/dist-packages (from chromadb) (0.21.0)\n",
            "Requirement already satisfied: pypika>=0.48.9 in /usr/local/lib/python3.11/dist-packages (from chromadb) (0.48.9)\n",
            "Requirement already satisfied: tqdm>=4.65.0 in /usr/local/lib/python3.11/dist-packages (from chromadb) (4.67.1)\n",
            "Requirement already satisfied: overrides>=7.3.1 in /usr/local/lib/python3.11/dist-packages (from chromadb) (7.7.0)\n",
            "Requirement already satisfied: importlib-resources in /usr/local/lib/python3.11/dist-packages (from chromadb) (6.5.2)\n",
            "Requirement already satisfied: grpcio>=1.58.0 in /usr/local/lib/python3.11/dist-packages (from chromadb) (1.70.0)\n",
            "Requirement already satisfied: bcrypt>=4.0.1 in /usr/local/lib/python3.11/dist-packages (from chromadb) (4.2.1)\n",
            "Requirement already satisfied: typer>=0.9.0 in /usr/local/lib/python3.11/dist-packages (from chromadb) (0.15.1)\n",
            "Requirement already satisfied: kubernetes>=28.1.0 in /usr/local/lib/python3.11/dist-packages (from chromadb) (32.0.0)\n",
            "Requirement already satisfied: tenacity>=8.2.3 in /usr/local/lib/python3.11/dist-packages (from chromadb) (9.0.0)\n",
            "Requirement already satisfied: PyYAML>=6.0.0 in /usr/local/lib/python3.11/dist-packages (from chromadb) (6.0.2)\n",
            "Requirement already satisfied: mmh3>=4.0.1 in /usr/local/lib/python3.11/dist-packages (from chromadb) (5.1.0)\n",
            "Requirement already satisfied: orjson>=3.9.12 in /usr/local/lib/python3.11/dist-packages (from chromadb) (3.10.15)\n",
            "Requirement already satisfied: httpx>=0.27.0 in /usr/local/lib/python3.11/dist-packages (from chromadb) (0.28.1)\n",
            "Requirement already satisfied: rich>=10.11.0 in /usr/local/lib/python3.11/dist-packages (from chromadb) (13.9.4)\n",
            "Requirement already satisfied: packaging>=19.1 in /usr/local/lib/python3.11/dist-packages (from build>=1.0.3->chromadb) (24.2)\n",
            "Requirement already satisfied: pyproject_hooks in /usr/local/lib/python3.11/dist-packages (from build>=1.0.3->chromadb) (1.2.0)\n",
            "Requirement already satisfied: starlette<0.46.0,>=0.40.0 in /usr/local/lib/python3.11/dist-packages (from fastapi>=0.95.2->chromadb) (0.45.3)\n",
            "Requirement already satisfied: anyio in /usr/local/lib/python3.11/dist-packages (from httpx>=0.27.0->chromadb) (3.7.1)\n",
            "Requirement already satisfied: certifi in /usr/local/lib/python3.11/dist-packages (from httpx>=0.27.0->chromadb) (2025.1.31)\n",
            "Requirement already satisfied: httpcore==1.* in /usr/local/lib/python3.11/dist-packages (from httpx>=0.27.0->chromadb) (1.0.7)\n",
            "Requirement already satisfied: idna in /usr/local/lib/python3.11/dist-packages (from httpx>=0.27.0->chromadb) (3.10)\n",
            "Requirement already satisfied: h11<0.15,>=0.13 in /usr/local/lib/python3.11/dist-packages (from httpcore==1.*->httpx>=0.27.0->chromadb) (0.14.0)\n",
            "Requirement already satisfied: six>=1.9.0 in /usr/local/lib/python3.11/dist-packages (from kubernetes>=28.1.0->chromadb) (1.17.0)\n",
            "Requirement already satisfied: python-dateutil>=2.5.3 in /usr/local/lib/python3.11/dist-packages (from kubernetes>=28.1.0->chromadb) (2.8.2)\n",
            "Requirement already satisfied: google-auth>=1.0.1 in /usr/local/lib/python3.11/dist-packages (from kubernetes>=28.1.0->chromadb) (2.27.0)\n",
            "Requirement already satisfied: websocket-client!=0.40.0,!=0.41.*,!=0.42.*,>=0.32.0 in /usr/local/lib/python3.11/dist-packages (from kubernetes>=28.1.0->chromadb) (1.8.0)\n",
            "Requirement already satisfied: requests in /usr/local/lib/python3.11/dist-packages (from kubernetes>=28.1.0->chromadb) (2.32.3)\n",
            "Requirement already satisfied: requests-oauthlib in /usr/local/lib/python3.11/dist-packages (from kubernetes>=28.1.0->chromadb) (2.0.0)\n",
            "Requirement already satisfied: oauthlib>=3.2.2 in /usr/local/lib/python3.11/dist-packages (from kubernetes>=28.1.0->chromadb) (3.2.2)\n",
            "Requirement already satisfied: urllib3>=1.24.2 in /usr/local/lib/python3.11/dist-packages (from kubernetes>=28.1.0->chromadb) (2.3.0)\n",
            "Requirement already satisfied: durationpy>=0.7 in /usr/local/lib/python3.11/dist-packages (from kubernetes>=28.1.0->chromadb) (0.9)\n",
            "Requirement already satisfied: coloredlogs in /usr/local/lib/python3.11/dist-packages (from onnxruntime>=1.14.1->chromadb) (15.0.1)\n",
            "Requirement already satisfied: flatbuffers in /usr/local/lib/python3.11/dist-packages (from onnxruntime>=1.14.1->chromadb) (25.2.10)\n",
            "Requirement already satisfied: protobuf in /usr/local/lib/python3.11/dist-packages (from onnxruntime>=1.14.1->chromadb) (5.29.3)\n",
            "Requirement already satisfied: sympy in /usr/local/lib/python3.11/dist-packages (from onnxruntime>=1.14.1->chromadb) (1.13.1)\n",
            "Requirement already satisfied: deprecated>=1.2.6 in /usr/local/lib/python3.11/dist-packages (from opentelemetry-api>=1.2.0->chromadb) (1.2.18)\n",
            "Requirement already satisfied: importlib-metadata<=8.5.0,>=6.0 in /usr/local/lib/python3.11/dist-packages (from opentelemetry-api>=1.2.0->chromadb) (8.5.0)\n",
            "Requirement already satisfied: googleapis-common-protos~=1.52 in /usr/local/lib/python3.11/dist-packages (from opentelemetry-exporter-otlp-proto-grpc>=1.2.0->chromadb) (1.66.0)\n",
            "Requirement already satisfied: opentelemetry-exporter-otlp-proto-common==1.30.0 in /usr/local/lib/python3.11/dist-packages (from opentelemetry-exporter-otlp-proto-grpc>=1.2.0->chromadb) (1.30.0)\n",
            "Requirement already satisfied: opentelemetry-proto==1.30.0 in /usr/local/lib/python3.11/dist-packages (from opentelemetry-exporter-otlp-proto-grpc>=1.2.0->chromadb) (1.30.0)\n",
            "Requirement already satisfied: opentelemetry-instrumentation-asgi==0.51b0 in /usr/local/lib/python3.11/dist-packages (from opentelemetry-instrumentation-fastapi>=0.41b0->chromadb) (0.51b0)\n",
            "Requirement already satisfied: opentelemetry-instrumentation==0.51b0 in /usr/local/lib/python3.11/dist-packages (from opentelemetry-instrumentation-fastapi>=0.41b0->chromadb) (0.51b0)\n",
            "Requirement already satisfied: opentelemetry-semantic-conventions==0.51b0 in /usr/local/lib/python3.11/dist-packages (from opentelemetry-instrumentation-fastapi>=0.41b0->chromadb) (0.51b0)\n",
            "Requirement already satisfied: opentelemetry-util-http==0.51b0 in /usr/local/lib/python3.11/dist-packages (from opentelemetry-instrumentation-fastapi>=0.41b0->chromadb) (0.51b0)\n",
            "Requirement already satisfied: wrapt<2.0.0,>=1.0.0 in /usr/local/lib/python3.11/dist-packages (from opentelemetry-instrumentation==0.51b0->opentelemetry-instrumentation-fastapi>=0.41b0->chromadb) (1.17.2)\n",
            "Requirement already satisfied: asgiref~=3.0 in /usr/local/lib/python3.11/dist-packages (from opentelemetry-instrumentation-asgi==0.51b0->opentelemetry-instrumentation-fastapi>=0.41b0->chromadb) (3.8.1)\n",
            "Requirement already satisfied: monotonic>=1.5 in /usr/local/lib/python3.11/dist-packages (from posthog>=2.4.0->chromadb) (1.6)\n",
            "Requirement already satisfied: backoff>=1.10.0 in /usr/local/lib/python3.11/dist-packages (from posthog>=2.4.0->chromadb) (2.2.1)\n",
            "Requirement already satisfied: annotated-types>=0.6.0 in /usr/local/lib/python3.11/dist-packages (from pydantic>=1.9->chromadb) (0.7.0)\n",
            "Requirement already satisfied: pydantic-core==2.27.2 in /usr/local/lib/python3.11/dist-packages (from pydantic>=1.9->chromadb) (2.27.2)\n",
            "Requirement already satisfied: markdown-it-py>=2.2.0 in /usr/local/lib/python3.11/dist-packages (from rich>=10.11.0->chromadb) (3.0.0)\n",
            "Requirement already satisfied: pygments<3.0.0,>=2.13.0 in /usr/local/lib/python3.11/dist-packages (from rich>=10.11.0->chromadb) (2.18.0)\n",
            "Requirement already satisfied: huggingface-hub<1.0,>=0.16.4 in /usr/local/lib/python3.11/dist-packages (from tokenizers>=0.13.2->chromadb) (0.28.1)\n",
            "Requirement already satisfied: click>=8.0.0 in /usr/local/lib/python3.11/dist-packages (from typer>=0.9.0->chromadb) (8.1.8)\n",
            "Requirement already satisfied: shellingham>=1.3.0 in /usr/local/lib/python3.11/dist-packages (from typer>=0.9.0->chromadb) (1.5.4)\n",
            "Requirement already satisfied: httptools>=0.6.3 in /usr/local/lib/python3.11/dist-packages (from uvicorn[standard]>=0.18.3->chromadb) (0.6.4)\n",
            "Requirement already satisfied: python-dotenv>=0.13 in /usr/local/lib/python3.11/dist-packages (from uvicorn[standard]>=0.18.3->chromadb) (1.0.1)\n",
            "Requirement already satisfied: uvloop!=0.15.0,!=0.15.1,>=0.14.0 in /usr/local/lib/python3.11/dist-packages (from uvicorn[standard]>=0.18.3->chromadb) (0.21.0)\n",
            "Requirement already satisfied: watchfiles>=0.13 in /usr/local/lib/python3.11/dist-packages (from uvicorn[standard]>=0.18.3->chromadb) (1.0.4)\n",
            "Requirement already satisfied: websockets>=10.4 in /usr/local/lib/python3.11/dist-packages (from uvicorn[standard]>=0.18.3->chromadb) (14.2)\n",
            "Requirement already satisfied: cachetools<6.0,>=2.0.0 in /usr/local/lib/python3.11/dist-packages (from google-auth>=1.0.1->kubernetes>=28.1.0->chromadb) (5.5.1)\n",
            "Requirement already satisfied: pyasn1-modules>=0.2.1 in /usr/local/lib/python3.11/dist-packages (from google-auth>=1.0.1->kubernetes>=28.1.0->chromadb) (0.4.1)\n",
            "Requirement already satisfied: rsa<5,>=3.1.4 in /usr/local/lib/python3.11/dist-packages (from google-auth>=1.0.1->kubernetes>=28.1.0->chromadb) (4.9)\n",
            "Requirement already satisfied: filelock in /usr/local/lib/python3.11/dist-packages (from huggingface-hub<1.0,>=0.16.4->tokenizers>=0.13.2->chromadb) (3.17.0)\n",
            "Requirement already satisfied: fsspec>=2023.5.0 in /usr/local/lib/python3.11/dist-packages (from huggingface-hub<1.0,>=0.16.4->tokenizers>=0.13.2->chromadb) (2024.10.0)\n",
            "Requirement already satisfied: zipp>=3.20 in /usr/local/lib/python3.11/dist-packages (from importlib-metadata<=8.5.0,>=6.0->opentelemetry-api>=1.2.0->chromadb) (3.21.0)\n",
            "Requirement already satisfied: mdurl~=0.1 in /usr/local/lib/python3.11/dist-packages (from markdown-it-py>=2.2.0->rich>=10.11.0->chromadb) (0.1.2)\n",
            "Requirement already satisfied: charset-normalizer<4,>=2 in /usr/local/lib/python3.11/dist-packages (from requests->kubernetes>=28.1.0->chromadb) (3.4.1)\n",
            "Requirement already satisfied: sniffio>=1.1 in /usr/local/lib/python3.11/dist-packages (from anyio->httpx>=0.27.0->chromadb) (1.3.1)\n",
            "Requirement already satisfied: humanfriendly>=9.1 in /usr/local/lib/python3.11/dist-packages (from coloredlogs->onnxruntime>=1.14.1->chromadb) (10.0)\n",
            "Requirement already satisfied: mpmath<1.4,>=1.1.0 in /usr/local/lib/python3.11/dist-packages (from sympy->onnxruntime>=1.14.1->chromadb) (1.3.0)\n",
            "Requirement already satisfied: pyasn1<0.7.0,>=0.4.6 in /usr/local/lib/python3.11/dist-packages (from pyasn1-modules>=0.2.1->google-auth>=1.0.1->kubernetes>=28.1.0->chromadb) (0.6.1)\n",
            "Requirement already satisfied: torch in /usr/local/lib/python3.11/dist-packages (2.5.1+cu124)\n",
            "Requirement already satisfied: filelock in /usr/local/lib/python3.11/dist-packages (from torch) (3.17.0)\n",
            "Requirement already satisfied: typing-extensions>=4.8.0 in /usr/local/lib/python3.11/dist-packages (from torch) (4.12.2)\n",
            "Requirement already satisfied: networkx in /usr/local/lib/python3.11/dist-packages (from torch) (3.4.2)\n",
            "Requirement already satisfied: jinja2 in /usr/local/lib/python3.11/dist-packages (from torch) (3.1.5)\n",
            "Requirement already satisfied: fsspec in /usr/local/lib/python3.11/dist-packages (from torch) (2024.10.0)\n",
            "Requirement already satisfied: nvidia-cuda-nvrtc-cu12==12.4.127 in /usr/local/lib/python3.11/dist-packages (from torch) (12.4.127)\n",
            "Requirement already satisfied: nvidia-cuda-runtime-cu12==12.4.127 in /usr/local/lib/python3.11/dist-packages (from torch) (12.4.127)\n",
            "Requirement already satisfied: nvidia-cuda-cupti-cu12==12.4.127 in /usr/local/lib/python3.11/dist-packages (from torch) (12.4.127)\n",
            "Requirement already satisfied: nvidia-cudnn-cu12==9.1.0.70 in /usr/local/lib/python3.11/dist-packages (from torch) (9.1.0.70)\n",
            "Requirement already satisfied: nvidia-cublas-cu12==12.4.5.8 in /usr/local/lib/python3.11/dist-packages (from torch) (12.4.5.8)\n",
            "Requirement already satisfied: nvidia-cufft-cu12==11.2.1.3 in /usr/local/lib/python3.11/dist-packages (from torch) (11.2.1.3)\n",
            "Requirement already satisfied: nvidia-curand-cu12==10.3.5.147 in /usr/local/lib/python3.11/dist-packages (from torch) (10.3.5.147)\n",
            "Requirement already satisfied: nvidia-cusolver-cu12==11.6.1.9 in /usr/local/lib/python3.11/dist-packages (from torch) (11.6.1.9)\n",
            "Requirement already satisfied: nvidia-cusparse-cu12==12.3.1.170 in /usr/local/lib/python3.11/dist-packages (from torch) (12.3.1.170)\n",
            "Requirement already satisfied: nvidia-nccl-cu12==2.21.5 in /usr/local/lib/python3.11/dist-packages (from torch) (2.21.5)\n",
            "Requirement already satisfied: nvidia-nvtx-cu12==12.4.127 in /usr/local/lib/python3.11/dist-packages (from torch) (12.4.127)\n",
            "Requirement already satisfied: nvidia-nvjitlink-cu12==12.4.127 in /usr/local/lib/python3.11/dist-packages (from torch) (12.4.127)\n",
            "Requirement already satisfied: triton==3.1.0 in /usr/local/lib/python3.11/dist-packages (from torch) (3.1.0)\n",
            "Requirement already satisfied: sympy==1.13.1 in /usr/local/lib/python3.11/dist-packages (from torch) (1.13.1)\n",
            "Requirement already satisfied: mpmath<1.4,>=1.1.0 in /usr/local/lib/python3.11/dist-packages (from sympy==1.13.1->torch) (1.3.0)\n",
            "Requirement already satisfied: MarkupSafe>=2.0 in /usr/local/lib/python3.11/dist-packages (from jinja2->torch) (3.0.2)\n",
            "Requirement already satisfied: torchvision in /usr/local/lib/python3.11/dist-packages (0.20.1+cu124)\n",
            "Requirement already satisfied: numpy in /usr/local/lib/python3.11/dist-packages (from torchvision) (1.26.4)\n",
            "Requirement already satisfied: torch==2.5.1 in /usr/local/lib/python3.11/dist-packages (from torchvision) (2.5.1+cu124)\n",
            "Requirement already satisfied: pillow!=8.3.*,>=5.3.0 in /usr/local/lib/python3.11/dist-packages (from torchvision) (11.1.0)\n",
            "Requirement already satisfied: filelock in /usr/local/lib/python3.11/dist-packages (from torch==2.5.1->torchvision) (3.17.0)\n",
            "Requirement already satisfied: typing-extensions>=4.8.0 in /usr/local/lib/python3.11/dist-packages (from torch==2.5.1->torchvision) (4.12.2)\n",
            "Requirement already satisfied: networkx in /usr/local/lib/python3.11/dist-packages (from torch==2.5.1->torchvision) (3.4.2)\n",
            "Requirement already satisfied: jinja2 in /usr/local/lib/python3.11/dist-packages (from torch==2.5.1->torchvision) (3.1.5)\n",
            "Requirement already satisfied: fsspec in /usr/local/lib/python3.11/dist-packages (from torch==2.5.1->torchvision) (2024.10.0)\n",
            "Requirement already satisfied: nvidia-cuda-nvrtc-cu12==12.4.127 in /usr/local/lib/python3.11/dist-packages (from torch==2.5.1->torchvision) (12.4.127)\n",
            "Requirement already satisfied: nvidia-cuda-runtime-cu12==12.4.127 in /usr/local/lib/python3.11/dist-packages (from torch==2.5.1->torchvision) (12.4.127)\n",
            "Requirement already satisfied: nvidia-cuda-cupti-cu12==12.4.127 in /usr/local/lib/python3.11/dist-packages (from torch==2.5.1->torchvision) (12.4.127)\n",
            "Requirement already satisfied: nvidia-cudnn-cu12==9.1.0.70 in /usr/local/lib/python3.11/dist-packages (from torch==2.5.1->torchvision) (9.1.0.70)\n",
            "Requirement already satisfied: nvidia-cublas-cu12==12.4.5.8 in /usr/local/lib/python3.11/dist-packages (from torch==2.5.1->torchvision) (12.4.5.8)\n",
            "Requirement already satisfied: nvidia-cufft-cu12==11.2.1.3 in /usr/local/lib/python3.11/dist-packages (from torch==2.5.1->torchvision) (11.2.1.3)\n",
            "Requirement already satisfied: nvidia-curand-cu12==10.3.5.147 in /usr/local/lib/python3.11/dist-packages (from torch==2.5.1->torchvision) (10.3.5.147)\n",
            "Requirement already satisfied: nvidia-cusolver-cu12==11.6.1.9 in /usr/local/lib/python3.11/dist-packages (from torch==2.5.1->torchvision) (11.6.1.9)\n",
            "Requirement already satisfied: nvidia-cusparse-cu12==12.3.1.170 in /usr/local/lib/python3.11/dist-packages (from torch==2.5.1->torchvision) (12.3.1.170)\n",
            "Requirement already satisfied: nvidia-nccl-cu12==2.21.5 in /usr/local/lib/python3.11/dist-packages (from torch==2.5.1->torchvision) (2.21.5)\n",
            "Requirement already satisfied: nvidia-nvtx-cu12==12.4.127 in /usr/local/lib/python3.11/dist-packages (from torch==2.5.1->torchvision) (12.4.127)\n",
            "Requirement already satisfied: nvidia-nvjitlink-cu12==12.4.127 in /usr/local/lib/python3.11/dist-packages (from torch==2.5.1->torchvision) (12.4.127)\n",
            "Requirement already satisfied: triton==3.1.0 in /usr/local/lib/python3.11/dist-packages (from torch==2.5.1->torchvision) (3.1.0)\n",
            "Requirement already satisfied: sympy==1.13.1 in /usr/local/lib/python3.11/dist-packages (from torch==2.5.1->torchvision) (1.13.1)\n",
            "Requirement already satisfied: mpmath<1.4,>=1.1.0 in /usr/local/lib/python3.11/dist-packages (from sympy==1.13.1->torch==2.5.1->torchvision) (1.3.0)\n",
            "Requirement already satisfied: MarkupSafe>=2.0 in /usr/local/lib/python3.11/dist-packages (from jinja2->torch==2.5.1->torchvision) (3.0.2)\n"
          ]
        }
      ],
      "source": [
        "!pip install boto3\n",
        "!pip install PyPDF2\n",
        "!pip install langchain\n",
        "!pip install langchain_community\n",
        "!pip install chromadb\n",
        "!pip install torch\n",
        "!pip install torchvision\n",
        "\n"
      ]
    },
    {
      "cell_type": "markdown",
      "metadata": {
        "id": "XVBP_M-aYezj"
      },
      "source": [
        "### We will then gather keys to all of our documents in our AWS S3 Bucket. We will seperate the objects into two arrays, one for text data and one for image data"
      ]
    },
    {
      "cell_type": "code",
      "execution_count": null,
      "metadata": {
        "collapsed": true,
        "id": "wvFb2RAbAh1i"
      },
      "outputs": [],
      "source": [
        "import boto3\n",
        "from google.colab import userdata\n",
        "\n",
        "def get_objects(bucket_name):\n",
        "  AWS_SERVER_PUBLIC_KEY = userdata.get('AWS_SERVER_PUBLIC_KEY')\n",
        "  AWS_SERVER_SECRET_KEY = userdata.get('AWS_SERVER_SECRET_KEY')\n",
        "\n",
        "  s3 = boto3.client('s3',\n",
        "                    aws_access_key_id=AWS_SERVER_PUBLIC_KEY,\n",
        "                    aws_secret_access_key=AWS_SERVER_SECRET_KEY)\n",
        "\n",
        "  s3_objects = s3.list_objects_v2(Bucket=bucket_name)\n",
        "\n",
        "  image_document_keys = []\n",
        "  text_document_keys = []\n",
        "  for obj in s3_objects['Contents']:\n",
        "    file_type = obj[\"Key\"][-3:]\n",
        "    if file_type == 'png' or file_type == 'jpg' or file_type == 'peg':\n",
        "      image_document_keys.append(obj[\"Key\"])\n",
        "    if file_type == 'pdf' or file_type == 'txt':\n",
        "      text_document_keys.append(obj[\"Key\"])\n",
        "  print(f\"Image keys: {image_document_keys}\")\n",
        "  print(f\"Text keys: {text_document_keys}\")\n",
        "  return s3, image_document_keys, text_document_keys\n"
      ]
    },
    {
      "cell_type": "markdown",
      "metadata": {
        "id": "Hye4CWumOYr3"
      },
      "source": [
        "# Part 1: Data Embedding"
      ]
    },
    {
      "cell_type": "markdown",
      "metadata": {
        "id": "JgCdJRKOaL4B"
      },
      "source": [
        "### Now, we must write the helper functions to embed our text data as well as our image data."
      ]
    },
    {
      "cell_type": "markdown",
      "metadata": {
        "id": "oBaeEnbXb8t8"
      },
      "source": [
        "First, we'll define our data processor, as well as our models"
      ]
    },
    {
      "cell_type": "code",
      "execution_count": null,
      "metadata": {
        "id": "z20fTE53b8K1"
      },
      "outputs": [],
      "source": [
        "from transformers import CLIPProcessor, CLIPModel, CLIPVisionModelWithProjection, CLIPTextModelWithProjection\n",
        "\n",
        "# Load CLIP processor and models\n",
        "clip_processor = CLIPProcessor.from_pretrained(\"openai/clip-vit-base-patch32\")\n",
        "clip_vision_model = CLIPVisionModelWithProjection.from_pretrained(\"openai/clip-vit-base-patch32\")\n",
        "clip_text_model = CLIPTextModelWithProjection.from_pretrained(\"openai/clip-vit-base-patch32\")"
      ]
    },
    {
      "cell_type": "markdown",
      "metadata": {
        "id": "YM8kG-0ZwCSr"
      },
      "source": [
        "Next, we will write a function to extract text from our PDFs and chunk it."
      ]
    },
    {
      "cell_type": "code",
      "execution_count": null,
      "metadata": {
        "id": "hofDxwntaNor"
      },
      "outputs": [],
      "source": [
        "from io import BytesIO\n",
        "from PyPDF2 import PdfReader\n",
        "from langchain.text_splitter import RecursiveCharacterTextSplitter\n",
        "\n",
        "# Function to read in PDF, extract text, and chunk the text\n",
        "def chunk_text(s3, bucket_name, text_document_keys):\n",
        "\n",
        "  for obj_key in text_document_keys:\n",
        "    #Get PDF\n",
        "    pdf_file = s3.get_object(Bucket=bucket_name, Key=obj_key)[\n",
        "      \"Body\"\n",
        "    ].read()\n",
        "\n",
        "    # Let's extract the pdf's text\n",
        "    pdf = PdfReader(BytesIO(pdf_file))\n",
        "    text = \" \".join(page.extract_text() for page in pdf.pages)\n",
        "\n",
        "    # Initialize the text chunker with custom parameters\n",
        "    custom_text_splitter = RecursiveCharacterTextSplitter(\n",
        "      chunk_size = 400,\n",
        "      chunk_overlap  = 30,\n",
        "      length_function = len\n",
        "      )\n",
        "\n",
        "    # Chunk the text\n",
        "    chunks = custom_text_splitter.create_documents([text])\n",
        "\n",
        "    # Format chunks to go into nomic embedding model correctly\n",
        "    chunk_sources = []\n",
        "    text_chunks = []\n",
        "    chunk_ids = []\n",
        "    for idx, chunk in enumerate(chunks):\n",
        "      chunk_sources.append({\"source\": obj_key})\n",
        "      text_chunks.append(chunk.page_content)\n",
        "      chunk_ids.append(f\"{idx}_{obj_key}\")\n",
        "    return text_chunks, chunk_sources, chunk_ids"
      ]
    },
    {
      "cell_type": "markdown",
      "metadata": {
        "id": "fjsrOaQOfITp"
      },
      "source": [
        "Now that we have our text, we will write the helper function to embed the chunks."
      ]
    },
    {
      "cell_type": "code",
      "execution_count": null,
      "metadata": {
        "id": "K0ucvcp7cdNh"
      },
      "outputs": [],
      "source": [
        "\n",
        "\n",
        "def embed_text_chunks_with_clip(text_chunks):\n",
        "    text_embeddings = []\n",
        "    for text in text_chunks:\n",
        "        # Process text and generate embeddings\n",
        "        inputs = clip_processor(text=text, return_tensors=\"pt\", padding=True, truncation=True)\n",
        "        outputs = clip_text_model(**inputs)\n",
        "        text_embedding = outputs.text_embeds.squeeze(0).detach().numpy().tolist()\n",
        "        text_embeddings.append(text_embedding)\n",
        "    return text_embeddings\n"
      ]
    },
    {
      "cell_type": "markdown",
      "metadata": {
        "id": "ahI8MBOodBLM"
      },
      "source": [
        "Great. Now we will move onto the image data."
      ]
    },
    {
      "cell_type": "code",
      "execution_count": null,
      "metadata": {
        "id": "oFkWi9oyRu35"
      },
      "outputs": [],
      "source": [
        "\n",
        "from PIL import Image\n",
        "import requests\n",
        "def embed_images_with_clip(bucket_name, image_document_keys):\n",
        "    image_embeddings = []\n",
        "    image_sources = []\n",
        "    image_ids = []\n",
        "    for index, image_key in enumerate(image_document_keys):\n",
        "        image_url = f\"https://{bucket_name}.s3.us-east-1.amazonaws.com/{image_key}\"\n",
        "        image = Image.open(requests.get(image_url, stream=True).raw)\n",
        "\n",
        "        # Process image and generate embeddings\n",
        "        inputs = clip_processor(images=image, return_tensors=\"pt\", padding=True)\n",
        "        outputs = clip_vision_model(**inputs)\n",
        "        image_embedding = outputs.image_embeds.squeeze(0).detach().numpy().tolist()\n",
        "\n",
        "        image_embeddings.append(image_embedding)\n",
        "        image_sources.append({\"source\": image_url})\n",
        "        image_ids.append(f\"{index}_{image_key}\")\n",
        "    return image_embeddings, image_sources, image_ids"
      ]
    },
    {
      "cell_type": "markdown",
      "metadata": {
        "id": "3X7BAE4uhigB"
      },
      "source": [
        "Finally, we can write the master function to embed and store all of our data. We'll pass in the s3 client we created when we got our object keys, the name of our bucket, our chromadb collection name, as well as the object key arrays."
      ]
    },
    {
      "cell_type": "code",
      "execution_count": null,
      "metadata": {
        "collapsed": true,
        "id": "yml7RpvdhLzA"
      },
      "outputs": [],
      "source": [
        "import chromadb\n",
        "from langchain.vectorstores import Chroma\n",
        "\n",
        "\n",
        "def get_and_store_embeddings(s3, bucket_name, collection_name, text_document_keys, image_document_keys):\n",
        "    # Create Chroma Client\n",
        "    chroma_client = chromadb.Client()\n",
        "\n",
        "    collection = chroma_client.get_or_create_collection(\n",
        "        name=collection_name,\n",
        "        metadata={\"embedding_dimension\": 512}  # Set dimensionality to 512 for CLIP\n",
        "    )\n",
        "\n",
        "    # Read in, chunk, and embed text data using CLIPTextModelWithProjection\n",
        "    text_chunks, chunk_sources, chunk_ids = chunk_text(s3, bucket_name, text_document_keys)\n",
        "    text_embeddings = embed_text_chunks_with_clip(text_chunks)\n",
        "\n",
        "    # Add text embeddings to ChromaDB collection\n",
        "    collection.add(\n",
        "        documents=text_chunks,\n",
        "        metadatas=chunk_sources,\n",
        "        embeddings=text_embeddings,\n",
        "        ids=chunk_ids\n",
        "    )\n",
        "\n",
        "    # Read in and embed image data using CLIPVisionModelWithProjection\n",
        "    image_embeddings, image_sources, image_ids = embed_images_with_clip(bucket_name, image_document_keys)\n",
        "\n",
        "    # Add image embeddings to ChromaDB collection\n",
        "    collection.add(\n",
        "        documents=image_document_keys,  # Use image keys as documents\n",
        "        metadatas=image_sources,\n",
        "        embeddings=image_embeddings,\n",
        "        ids=image_ids\n",
        "    )"
      ]
    },
    {
      "cell_type": "markdown",
      "metadata": {
        "id": "1vMq7xU9N5cw"
      },
      "source": [
        "# Part 3: Data Retrieval"
      ]
    },
    {
      "cell_type": "markdown",
      "metadata": {
        "id": "DW2wWMEwNClL"
      },
      "source": [
        "### Cool, now, we can send queries into our ChromaDB to retrieve relevant data.  The function below will allow us to send in a query and retrieve the k most semantically similar embeddings, whether they be image or text embeddings. These embeddings may be used as context for RAG, or for other use cases"
      ]
    },
    {
      "cell_type": "code",
      "execution_count": null,
      "metadata": {
        "id": "lrO2vmLjHw6_"
      },
      "outputs": [],
      "source": [
        "def get_relevant_docs_with_clip(collection_name, question, top_k):\n",
        "    # Generate query embedding using CLIP's text model\n",
        "    inputs = clip_processor(text=question, return_tensors=\"pt\", padding=True, truncation=True)\n",
        "    outputs = clip_text_model(**inputs)\n",
        "    query_embedding = outputs.text_embeds.squeeze(0).detach().numpy().tolist()\n",
        "\n",
        "    # Query ChromaDB\n",
        "    chroma_client = chromadb.Client()\n",
        "    collection = chroma_client.get_or_create_collection(name=collection_name)\n",
        "    results = collection.query(\n",
        "        query_embeddings=[query_embedding],\n",
        "        n_results=top_k,\n",
        "        where_document={\"$contains\":\"jpeg\"}, #<- optional filter to only include images\n",
        "    )\n",
        "    return results"
      ]
    },
    {
      "cell_type": "markdown",
      "metadata": {
        "id": "mtrqAUbsHX-X"
      },
      "source": [
        "### Great, and just like that, we can semantically retrieve data to help answer queries."
      ]
    },
    {
      "cell_type": "markdown",
      "metadata": {
        "id": "aThCuU_irChu"
      },
      "source": [
        "### Now, let's feed the query, as well as the context, into an LLM and see what this RAG chatbot is really capable of. (JK we arent worried about this right now)"
      ]
    },
    {
      "cell_type": "code",
      "execution_count": null,
      "metadata": {
        "colab": {
          "base_uri": "https://localhost:8080/",
          "height": 382
        },
        "collapsed": true,
        "id": "VZyF27VOrJJO",
        "outputId": "6ecf63ef-4b45-4773-8488-5f15534fb997"
      },
      "outputs": [
        {
          "ename": "KeyboardInterrupt",
          "evalue": "Interrupted by user",
          "output_type": "error",
          "traceback": [
            "\u001b[0;31m---------------------------------------------------------------------------\u001b[0m",
            "\u001b[0;31mKeyboardInterrupt\u001b[0m                         Traceback (most recent call last)",
            "\u001b[0;32m<ipython-input-71-631c20081fd2>\u001b[0m in \u001b[0;36m<cell line: 0>\u001b[0;34m()\u001b[0m\n\u001b[1;32m     20\u001b[0m   \u001b[0mprint\u001b[0m\u001b[0;34m(\u001b[0m\u001b[0;34mf\"Response: {completion.choices[0].message.content}\"\u001b[0m\u001b[0;34m)\u001b[0m\u001b[0;34m\u001b[0m\u001b[0;34m\u001b[0m\u001b[0m\n\u001b[1;32m     21\u001b[0m \u001b[0;34m\u001b[0m\u001b[0m\n\u001b[0;32m---> 22\u001b[0;31m \u001b[0mquestion\u001b[0m \u001b[0;34m=\u001b[0m \u001b[0minput\u001b[0m\u001b[0;34m(\u001b[0m\u001b[0;34m\"Please enter your question\"\u001b[0m\u001b[0;34m)\u001b[0m\u001b[0;34m\u001b[0m\u001b[0;34m\u001b[0m\u001b[0m\n\u001b[0m\u001b[1;32m     23\u001b[0m \u001b[0mcontext\u001b[0m \u001b[0;34m=\u001b[0m \u001b[0mget_relevant_docs\u001b[0m\u001b[0;34m(\u001b[0m\u001b[0mquestion\u001b[0m\u001b[0;34m,\u001b[0m \u001b[0mtop_k\u001b[0m\u001b[0;34m=\u001b[0m\u001b[0;36m5\u001b[0m\u001b[0;34m)\u001b[0m\u001b[0;34m\u001b[0m\u001b[0;34m\u001b[0m\u001b[0m\n\u001b[1;32m     24\u001b[0m \u001b[0mget_chat_response\u001b[0m\u001b[0;34m(\u001b[0m\u001b[0mquestion\u001b[0m\u001b[0;34m,\u001b[0m \u001b[0mcontext\u001b[0m\u001b[0;34m)\u001b[0m\u001b[0;34m\u001b[0m\u001b[0;34m\u001b[0m\u001b[0m\n",
            "\u001b[0;32m/usr/local/lib/python3.11/dist-packages/ipykernel/kernelbase.py\u001b[0m in \u001b[0;36mraw_input\u001b[0;34m(self, prompt)\u001b[0m\n\u001b[1;32m    849\u001b[0m                 \u001b[0;34m\"raw_input was called, but this frontend does not support input requests.\"\u001b[0m\u001b[0;34m\u001b[0m\u001b[0;34m\u001b[0m\u001b[0m\n\u001b[1;32m    850\u001b[0m             )\n\u001b[0;32m--> 851\u001b[0;31m         return self._input_request(str(prompt),\n\u001b[0m\u001b[1;32m    852\u001b[0m             \u001b[0mself\u001b[0m\u001b[0;34m.\u001b[0m\u001b[0m_parent_ident\u001b[0m\u001b[0;34m,\u001b[0m\u001b[0;34m\u001b[0m\u001b[0;34m\u001b[0m\u001b[0m\n\u001b[1;32m    853\u001b[0m             \u001b[0mself\u001b[0m\u001b[0;34m.\u001b[0m\u001b[0m_parent_header\u001b[0m\u001b[0;34m,\u001b[0m\u001b[0;34m\u001b[0m\u001b[0;34m\u001b[0m\u001b[0m\n",
            "\u001b[0;32m/usr/local/lib/python3.11/dist-packages/ipykernel/kernelbase.py\u001b[0m in \u001b[0;36m_input_request\u001b[0;34m(self, prompt, ident, parent, password)\u001b[0m\n\u001b[1;32m    893\u001b[0m             \u001b[0;32mexcept\u001b[0m \u001b[0mKeyboardInterrupt\u001b[0m\u001b[0;34m:\u001b[0m\u001b[0;34m\u001b[0m\u001b[0;34m\u001b[0m\u001b[0m\n\u001b[1;32m    894\u001b[0m                 \u001b[0;31m# re-raise KeyboardInterrupt, to truncate traceback\u001b[0m\u001b[0;34m\u001b[0m\u001b[0;34m\u001b[0m\u001b[0m\n\u001b[0;32m--> 895\u001b[0;31m                 \u001b[0;32mraise\u001b[0m \u001b[0mKeyboardInterrupt\u001b[0m\u001b[0;34m(\u001b[0m\u001b[0;34m\"Interrupted by user\"\u001b[0m\u001b[0;34m)\u001b[0m \u001b[0;32mfrom\u001b[0m \u001b[0;32mNone\u001b[0m\u001b[0;34m\u001b[0m\u001b[0;34m\u001b[0m\u001b[0m\n\u001b[0m\u001b[1;32m    896\u001b[0m             \u001b[0;32mexcept\u001b[0m \u001b[0mException\u001b[0m \u001b[0;32mas\u001b[0m \u001b[0me\u001b[0m\u001b[0;34m:\u001b[0m\u001b[0;34m\u001b[0m\u001b[0;34m\u001b[0m\u001b[0m\n\u001b[1;32m    897\u001b[0m                 \u001b[0mself\u001b[0m\u001b[0;34m.\u001b[0m\u001b[0mlog\u001b[0m\u001b[0;34m.\u001b[0m\u001b[0mwarning\u001b[0m\u001b[0;34m(\u001b[0m\u001b[0;34m\"Invalid Message:\"\u001b[0m\u001b[0;34m,\u001b[0m \u001b[0mexc_info\u001b[0m\u001b[0;34m=\u001b[0m\u001b[0;32mTrue\u001b[0m\u001b[0;34m)\u001b[0m\u001b[0;34m\u001b[0m\u001b[0;34m\u001b[0m\u001b[0m\n",
            "\u001b[0;31mKeyboardInterrupt\u001b[0m: Interrupted by user"
          ]
        }
      ],
      "source": [
        "# from openai import OpenAI\n",
        "\n",
        "# def get_chat_response(question, context):\n",
        "#   OPENAI_API_KEY = userdata.get('OPENAI_API_KEY')\n",
        "#   client = OpenAI(api_key=OPENAI_API_KEY)\n",
        "#   question = question\n",
        "#   context = \" \".join(doc.replace(\"search_document: \", \"\") for doc in context['documents'][0]) # Extract and concatenate search_document values\n",
        "#   content = f\"You are a bee expert. Please use the following context to answer the user's question. Context: {context}\"\n",
        "#   completion = client.chat.completions.create(\n",
        "#       model=\"gpt-4o\",\n",
        "#       messages=[\n",
        "#           {\"role\": \"developer\", \"content\": context},\n",
        "#           {\n",
        "#               \"role\": \"user\",\n",
        "#               \"content\": question\n",
        "#           }\n",
        "#       ]\n",
        "#   )\n",
        "#   print(f\"Context retrieved: {context}\")\n",
        "#   print(f\"Response: {completion.choices[0].message.content}\")\n"
      ]
    },
    {
      "cell_type": "markdown",
      "metadata": {
        "id": "38HY0RjcE_25"
      },
      "source": [
        "# Let's Try it Out"
      ]
    },
    {
      "cell_type": "code",
      "execution_count": null,
      "metadata": {
        "colab": {
          "base_uri": "https://localhost:8080/"
        },
        "collapsed": true,
        "id": "5SeVAKcdE-Ef",
        "outputId": "94f14b4a-88a1-4705-f4aa-f06d0637dfef"
      },
      "outputs": [
        {
          "name": "stdout",
          "output_type": "stream",
          "text": [
            "Image keys: ['image_100.jpeg', 'image_101.jpeg', 'image_102.jpeg', 'image_103.jpeg', 'image_104.jpeg', 'image_105.jpeg', 'image_106.png', 'image_107.png', 'image_108.jpeg', 'image_109.png', 'image_110.png', 'image_111.png', 'image_112.png', 'image_113.jpeg', 'image_114.jpeg', 'image_115.jpeg', 'image_116.jpeg', 'image_117.jpeg', 'image_118.jpeg', 'image_119.jpeg', 'image_120.jpeg', 'image_121.jpeg', 'image_122.jpeg', 'image_123.jpeg', 'image_124.jpeg', 'image_125.jpeg', 'image_126.jpeg', 'image_127.jpeg', 'image_128.jpeg', 'image_129.jpeg', 'image_130.png', 'image_131.png', 'image_132.jpeg', 'image_133.png', 'image_134.png', 'image_135.png', 'image_136.jpeg', 'image_137.png', 'image_138.png', 'image_139.png', 'image_140.jpeg', 'image_141.png', 'image_142.png', 'image_143.png', 'image_144.jpeg', 'image_50.jpeg', 'image_51.jpeg', 'image_52.jpeg', 'image_53.jpeg', 'image_75.jpeg', 'image_76.jpeg', 'image_77.jpeg', 'image_78.jpeg', 'image_79.jpeg', 'image_80.jpeg', 'image_81.jpeg', 'image_82.jpeg', 'image_83.jpeg', 'image_84.png', 'image_85.png', 'image_86.jpeg', 'image_87.png', 'image_88.png', 'image_89.png', 'image_90.jpeg', 'image_91.jpeg', 'image_92.jpeg', 'image_93.jpeg', 'image_94.jpeg', 'image_95.jpeg', 'image_96.jpeg', 'image_97.jpeg', 'image_98.jpeg', 'image_99.jpeg']\n",
            "Text keys: ['creatures.pdf']\n"
          ]
        }
      ],
      "source": [
        "bucket_name=\"testing-generic-rag\"\n",
        "collection_name = 'my_second_collection'\n",
        "s3, image_document_keys, text_document_keys = get_objects(bucket_name)"
      ]
    },
    {
      "cell_type": "code",
      "execution_count": null,
      "metadata": {
        "collapsed": true,
        "id": "T7TeBKorJQLr"
      },
      "outputs": [],
      "source": [
        "get_and_store_embeddings(s3 = s3, bucket_name=bucket_name, collection_name=collection_name, text_document_keys=text_document_keys, image_document_keys=image_document_keys)"
      ]
    },
    {
      "cell_type": "code",
      "execution_count": null,
      "metadata": {
        "colab": {
          "base_uri": "https://localhost:8080/"
        },
        "id": "7muzTvrJ8Zik",
        "outputId": "b6d4ebf5-7d90-427f-dfb4-8ee297ad1a79"
      },
      "outputs": [
        {
          "data": {
            "text/plain": [
              "{'ids': ['image_1', 'text_1'],\n",
              " 'embeddings': array([[-0.10570487,  0.13790806, -0.29611444, ...,  0.86681843,\n",
              "         -0.01457981,  0.25631657],\n",
              "        [ 0.32377037, -0.03722687, -0.69636118, ...,  0.12958616,\n",
              "         -0.4299742 , -0.11625163]]),\n",
              " 'documents': None,\n",
              " 'uris': None,\n",
              " 'data': None,\n",
              " 'metadatas': None,\n",
              " 'included': [<IncludeEnum.embeddings: 'embeddings'>]}"
            ]
          },
          "execution_count": 143,
          "metadata": {},
          "output_type": "execute_result"
        }
      ],
      "source": [
        "# chroma_client = chromadb.Client()\n",
        "\n",
        "# collection = chroma_client.get_or_create_collection(name=\"newest_test_collection\")\n",
        "\n",
        "\n",
        "# collection.get(include=[\"embeddings\"])"
      ]
    },
    {
      "cell_type": "code",
      "execution_count": null,
      "metadata": {
        "colab": {
          "background_save": true,
          "base_uri": "https://localhost:8080/"
        },
        "collapsed": true,
        "id": "MYBK5wc2JI0C",
        "outputId": "05ece981-ff02-46d9-8fbf-ef9262548ab2"
      },
      "outputs": [
        {
          "name": "stdout",
          "output_type": "stream",
          "text": [
            "{'ids': [['28_image_128.jpeg', '52_image_78.jpeg', '69_image_95.jpeg', '15_image_115.jpeg', '20_image_120.jpeg', '65_image_91.jpeg', '50_image_76.jpeg', '22_image_122.jpeg', '56_image_82.jpeg', '68_image_94.jpeg', '18_image_118.jpeg', '71_image_97.jpeg', '19_image_119.jpeg', '27_image_127.jpeg', '67_image_93.jpeg', '25_image_125.jpeg', '73_image_99.jpeg', '3_image_103.jpeg', '54_image_80.jpeg', '51_image_77.jpeg']], 'embeddings': None, 'documents': [['image_128.jpeg', 'image_78.jpeg', 'image_95.jpeg', 'image_115.jpeg', 'image_120.jpeg', 'image_91.jpeg', 'image_76.jpeg', 'image_122.jpeg', 'image_82.jpeg', 'image_94.jpeg', 'image_118.jpeg', 'image_97.jpeg', 'image_119.jpeg', 'image_127.jpeg', 'image_93.jpeg', 'image_125.jpeg', 'image_99.jpeg', 'image_103.jpeg', 'image_80.jpeg', 'image_77.jpeg']], 'uris': None, 'data': None, 'metadatas': [[{'source': 'https://testing-generic-rag.s3.us-east-1.amazonaws.com/image_128.jpeg'}, {'source': 'https://testing-generic-rag.s3.us-east-1.amazonaws.com/image_78.jpeg'}, {'source': 'https://testing-generic-rag.s3.us-east-1.amazonaws.com/image_95.jpeg'}, {'source': 'https://testing-generic-rag.s3.us-east-1.amazonaws.com/image_115.jpeg'}, {'source': 'https://testing-generic-rag.s3.us-east-1.amazonaws.com/image_120.jpeg'}, {'source': 'https://testing-generic-rag.s3.us-east-1.amazonaws.com/image_91.jpeg'}, {'source': 'https://testing-generic-rag.s3.us-east-1.amazonaws.com/image_76.jpeg'}, {'source': 'https://testing-generic-rag.s3.us-east-1.amazonaws.com/image_122.jpeg'}, {'source': 'https://testing-generic-rag.s3.us-east-1.amazonaws.com/image_82.jpeg'}, {'source': 'https://testing-generic-rag.s3.us-east-1.amazonaws.com/image_94.jpeg'}, {'source': 'https://testing-generic-rag.s3.us-east-1.amazonaws.com/image_118.jpeg'}, {'source': 'https://testing-generic-rag.s3.us-east-1.amazonaws.com/image_97.jpeg'}, {'source': 'https://testing-generic-rag.s3.us-east-1.amazonaws.com/image_119.jpeg'}, {'source': 'https://testing-generic-rag.s3.us-east-1.amazonaws.com/image_127.jpeg'}, {'source': 'https://testing-generic-rag.s3.us-east-1.amazonaws.com/image_93.jpeg'}, {'source': 'https://testing-generic-rag.s3.us-east-1.amazonaws.com/image_125.jpeg'}, {'source': 'https://testing-generic-rag.s3.us-east-1.amazonaws.com/image_99.jpeg'}, {'source': 'https://testing-generic-rag.s3.us-east-1.amazonaws.com/image_103.jpeg'}, {'source': 'https://testing-generic-rag.s3.us-east-1.amazonaws.com/image_80.jpeg'}, {'source': 'https://testing-generic-rag.s3.us-east-1.amazonaws.com/image_77.jpeg'}]], 'distances': [[160.37722778320312, 164.7256622314453, 165.41586303710938, 165.88185119628906, 166.39053344726562, 166.8410186767578, 167.42381286621094, 167.5934295654297, 168.60064697265625, 169.33938598632812, 169.3984375, 171.29075622558594, 171.35731506347656, 171.70474243164062, 171.79739379882812, 172.11233520507812, 172.6143341064453, 172.92160034179688, 172.92160034179688, 174.26901245117188]], 'included': [<IncludeEnum.distances: 'distances'>, <IncludeEnum.documents: 'documents'>, <IncludeEnum.metadatas: 'metadatas'>]}\n"
          ]
        }
      ],
      "source": [
        "question = 'Cutest little animal ever.'\n",
        "results = get_relevant_docs_with_clip(collection_name, question=question, top_k=20)\n",
        "print(results)"
      ]
    },
    {
      "cell_type": "markdown",
      "metadata": {
        "id": "GS6QbP6EkHQ7"
      },
      "source": [
        "### Tester function\n",
        "This code is meant to pretty much send a single image, text chunk, and text query through the same process that our own image/text data goes through above. This is for the sake of exploring issues with the embeddings storage/retrieval"
      ]
    },
    {
      "cell_type": "code",
      "execution_count": null,
      "metadata": {
        "colab": {
          "base_uri": "https://localhost:8080/"
        },
        "id": "7hH61ZzYkG0r",
        "outputId": "187d5d00-c595-48b8-838b-3d44c6ffffec"
      },
      "outputs": [
        {
          "name": "stdout",
          "output_type": "stream",
          "text": [
            "Cosine similarity before storing in ChromaDB:\n",
            "  Image similarity: 0.6434045364724016\n",
            "  Text similarity: 0.5291088754348807\n",
            "\n",
            "Query Results from ChromaDB:\n",
            "Result 1:\n",
            "  Document: Two cats on a couch\n",
            "  Metadata: None\n",
            "  Cosine Distance: 65.58438110351562\n",
            "\n",
            "Result 2:\n",
            "  Document: http://images.cocodataset.org/val2017/000000039769.jpg\n",
            "  Metadata: None\n",
            "  Cosine Distance: 109.9305648803711\n",
            "\n",
            "original embedding: [-0.10570486634969711, 0.13790805637836456, -0.296114444732666, 0.021248916164040565, -0.06406959891319275, -0.1686188280582428, -0.1351427286863327, -0.0024489674251526594, 0.47376549243927, -0.17626884579658508, 0.24439945816993713, -0.3797180950641632, 0.048325929790735245, -0.13981136679649353, -0.34044772386550903, -0.12675876915454865, -0.23266154527664185, -0.29759618639945984, 0.17886193096637726, 0.049607954919338226, -1.3074297904968262, -0.032436810433864594, 0.4214426875114441, -0.3336309790611267, -0.0473744198679924, 0.29804500937461853, 0.23910123109817505, -0.18429112434387207, 0.15668943524360657, -0.048808664083480835, -0.07758797705173492, 0.25887516140937805, -0.07355400919914246, 0.17692168056964874, -0.5791791677474976, -0.004919218830764294, 0.2790602743625641, -0.28706756234169006, 0.1908002644777298, 0.3263278305530548, -0.10050615668296814, -0.34647509455680847, 0.007166200317442417, -0.14746098220348358, -0.19010353088378906, 0.0005731689743697643, 0.52022385597229, 0.15116526186466217, -0.09164482355117798, 0.17594647407531738, 0.16325122117996216, 0.2515696883201599, 0.11609256267547607, -0.05378752201795578, 0.22870700061321259, 0.18607741594314575, 0.2576294243335724, 0.6031374931335449, -0.25823262333869934, -0.16780932247638702, 0.4238526523113251, -0.1395096778869629, -0.06374258548021317, 0.3556775748729706, -0.07424435019493103, -0.270957350730896, 0.2241712361574173, 1.0961952209472656, 0.19659288227558136, 0.07891777902841568, 0.20099268853664398, -0.10656672716140747, 0.2764313220977783, 0.2766111493110657, 0.4934239387512207, -0.016943957656621933, 0.06394893676042557, -0.3403075039386749, -0.052760977298021317, -0.13829125463962555, -0.187811940908432, -0.6763309240341187, -0.45839571952819824, -0.015787143260240555, -0.5526784062385559, 0.2626272737979889, 0.43101826310157776, -0.5373601913452148, 0.29390642046928406, 0.09333959966897964, 0.17963464558124542, 0.027744293212890625, -7.342142581939697, 0.32605457305908203, -0.21535243093967438, 0.06709751486778259, 0.1734788715839386, -0.42521825432777405, -0.9265784621238708, 1.2662992477416992, -0.029132159426808357, 0.06121385842561722, -0.30542418360710144, -0.007548741530627012, 0.7245302200317383, 0.2502250075340271, 1.229975938796997, 0.26843327283859253, -0.1805061399936676, -0.4729686677455902, -0.15610840916633606, -1.056082010269165, 0.062212321907281876, 0.19992947578430176, 0.18817409873008728, 0.05971194803714752, 0.08616800606250763, 0.11678612232208252, 0.17643332481384277, -0.1063537523150444, 0.1623644083738327, -0.21021981537342072, -0.1818874180316925, 0.3962898850440979, -0.16403672099113464, -0.09291757643222809, -0.06028309464454651, 0.5183939337730408, -0.1298709362745285, 0.02877715975046158, -0.0529719702899456, 0.07834018766880035, -0.1967434287071228, 0.9479537606239319, -0.4104430675506592, -0.38089296221733093, 0.1484842151403427, -0.48701563477516174, -0.41069668531417847, -0.12976135313510895, 0.15802036225795746, -0.37492144107818604, 0.3536653220653534, 0.4143699109554291, -0.15291211009025574, 0.28546667098999023, 0.3222712278366089, -0.5626506805419922, 0.08844978362321854, 0.24727950990200043, -0.4839731454849243, 0.1879921704530716, -0.3098377585411072, -0.22550749778747559, 0.019980624318122864, -0.05936632677912712, -0.33539682626724243, -0.4757250249385834, 0.1181470975279808, -0.400581419467926, -0.027256501838564873, -0.2631550431251526, 0.11216755211353302, 0.22248084843158722, 0.00032478151842951775, -0.38469934463500977, -0.5201464891433716, 0.5281473994255066, 0.1454513669013977, 0.30454254150390625, 0.22328941524028778, 0.6872179508209229, 0.3052084743976593, -0.22130222618579865, -0.21167422831058502, 0.18805637955665588, 0.02205532416701317, 0.05469059944152832, 0.069693423807621, 0.2577587366104126, -0.3721775710582733, 0.2323632836341858, -0.12269070744514465, -0.36240559816360474, -0.058698803186416626, 0.13108742237091064, 0.1681065410375595, -0.3794988691806793, 0.328622967004776, -0.17761126160621643, 0.34696513414382935, -0.288748562335968, -0.5429442524909973, -0.13270913064479828, -0.4873363971710205, -0.033035386353731155, -0.2627469599246979, -0.3498803377151489, -1.1122257709503174, -0.42773252725601196, 0.043965619057416916, 0.3607558012008667, 0.13401463627815247, 0.18443424999713898, -0.10153461992740631, -0.012240522541105747, 0.32831233739852905, 0.06739979982376099, -0.3025657534599304, 0.5625021457672119, -0.41209676861763, 0.5178585648536682, -0.035435061901807785, 0.3327140808105469, -0.42545998096466064, -0.35230547189712524, -0.0029023773968219757, -0.7160438299179077, 0.8259783387184143, -0.3952391743659973, 0.003618431044742465, 0.15516133606433868, -0.19975024461746216, 0.16136899590492249, -0.04992791637778282, 0.368558794260025, 0.1477915197610855, -0.06943084299564362, 0.02415197156369686, -0.19426271319389343, -0.15363304316997528, 0.05179326981306076, -0.3329976797103882, 0.7616157531738281, 0.27635759115219116, -0.533586859703064, -0.3500403165817261, 0.13251543045043945, 0.14885607361793518, -0.18809860944747925, 0.35506486892700195, -0.1819436103105545, -0.1230132058262825, -0.029974954202771187, -0.3248729109764099, 0.6294858455657959, 0.12427536398172379, -0.046404771506786346, -0.1091342568397522, 0.7081345319747925, 0.014803940430283546, 0.27663981914520264, -0.1604127287864685, -0.07424435019493103, 0.19206248223781586, 0.04841677471995354, -0.04080857336521149, -0.2754311263561249, -0.6399051547050476, -0.04421543702483177, -0.08591534942388535, 0.03326243907213211, -0.003533516079187393, 0.45338454842567444, 0.3268166184425354, -0.1077422946691513, -0.5372118353843689, -0.42815300822257996, -0.28198227286338806, 0.0611281655728817, -0.24625088274478912, -0.20744900405406952, 0.31998786330223083, -0.13205161690711975, -0.2290128469467163, -0.1860382854938507, -0.017491647973656654, 0.17488902807235718, -0.4399852454662323, 0.10667209327220917, 0.3400987982749939, 0.25525933504104614, -0.38551053404808044, -0.0627751350402832, -0.22570928931236267, 0.07508770376443863, 0.017720479518175125, -0.013167578727006912, 0.48330390453338623, -0.1981579065322876, -0.1437532752752304, 0.17780554294586182, 0.2762077748775482, 0.30706992745399475, 0.18929575383663177, 0.1951967477798462, 0.26624614000320435, -0.5747970342636108, 0.007932081818580627, -0.15115216374397278, 0.23182930052280426, -0.14169318974018097, -0.11889372766017914, 0.4325284957885742, -0.09807682782411575, 0.30851417779922485, -0.06704575568437576, 0.3769816756248474, 0.08892618119716644, -0.18220722675323486, -0.5874040126800537, 0.27005642652511597, 0.9468765258789062, -0.0625104084610939, -0.18786613643169403, 0.25662344694137573, 0.1521737277507782, 0.48820048570632935, 0.18437716364860535, 0.2582820951938629, -0.19513797760009766, 1.615310549736023, -0.5838126540184021, -0.036166079342365265, -0.24056069552898407, -0.1378423273563385, -0.0942075252532959, 0.5713968276977539, 0.19949322938919067, 0.02650616504251957, 0.014177953824400902, -0.15593230724334717, -0.17335771024227142, -0.14923809468746185, 0.03407484292984009, 0.5384858846664429, 0.07338794320821762, 0.11542384326457977, -0.015295804478228092, -0.022717416286468506, -0.019321203231811523, -0.057205043733119965, 0.21120785176753998, 0.07740468531847, 0.2093823254108429, -0.4905015528202057, -0.12305635958909988, 0.1613403558731079, -0.08367789536714554, 0.034774694591760635, 0.11502590775489807, -0.22666071355342865, 0.5562054514884949, -0.4045026898384094, -0.20487260818481445, -0.10599629580974579, -0.2701534032821655, 0.2636115252971649, 0.20263463258743286, 0.3797841966152191, 0.1533501297235489, 0.12605029344558716, 0.0005037866649217904, -0.13194593787193298, -0.4700779616832733, 0.19778816401958466, 0.29089799523353577, -0.5481154322624207, 0.5849903225898743, -0.1059001088142395, 0.4754488170146942, 0.5050019025802612, -0.21748781204223633, -0.5940457582473755, 0.3248353600502014, -0.15169654786586761, 1.806015968322754, 0.07168005406856537, -0.42354872822761536, -0.07422389090061188, 0.0678897500038147, -0.5189821124076843, -0.16755542159080505, 0.4261448085308075, -0.12729917466640472, 0.01601478084921837, -0.11366106569766998, -0.4308624863624573, 0.12056200951337814, -0.8434275388717651, -0.32650014758110046, -0.45064395666122437, 0.11178769171237946, -0.261111855506897, 0.19197216629981995, 0.12052173167467117, 0.4527941048145294, -0.32544970512390137, -0.3591385781764984, -0.2732934355735779, 0.037604521960020065, 0.2105008363723755, 0.433150976896286, 0.28788915276527405, 0.09515166282653809, -0.03664570674300194, -0.2028646618127823, -0.4580959975719452, 0.6241496205329895, 0.0348396934568882, 0.5037253499031067, 0.7976603507995605, -0.18451443314552307, 0.2625580430030823, 0.000559513340704143, -0.6554734706878662, -0.33765530586242676, -0.06358804553747177, -0.04020538926124573, -0.36787834763526917, -0.5800904035568237, 0.3292737305164337, 0.2008591592311859, 0.42278826236724854, 0.12953010201454163, 0.0024382388219237328, 0.11158521473407745, -0.3712851405143738, 0.6618256568908691, 0.2800852060317993, -0.32797157764434814, 0.7938904762268066, -0.5152538418769836, 0.26868772506713867, -0.04871825501322746, -0.5801699161529541, -0.039886314421892166, 0.4218367040157318, 0.2916412949562073, 0.012953625991940498, -0.11650517582893372, -0.2676820755004883, 0.06793463230133057, -0.1177450567483902, 0.3476504385471344, -0.03461518511176109, 0.052753619849681854, -0.29523417353630066, -0.1953624039888382, -0.4187328815460205, -0.5584216117858887, -0.25225162506103516, -0.5310570001602173, 0.5352297425270081, -0.12159539759159088, -0.308411568403244, 0.37260645627975464, 0.44893723726272583, 0.1355723887681961, 0.4511374235153198, -0.32811427116394043, -0.3968144357204437, 0.08492974936962128, -0.2909630835056305, 0.4158332645893097, 0.14221598207950592, -0.2978348135948181, -0.2187110036611557, -0.19391770660877228, -0.4093434810638428, 0.4281107187271118, -0.5089688897132874, -0.4147299826145172, -0.10546599328517914, -0.6701423525810242, -0.4898083508014679, -0.3761865794658661, -0.13543690741062164, -0.12336674332618713, -0.7220560312271118, -0.06217549741268158, -0.09981077164411545, 0.05519112944602966, 0.07306397706270218, 0.24989694356918335, 0.1587992012500763, -0.200901061296463, 0.11332312971353531, -0.2510385811328888, -0.15369677543640137, -0.04350494593381882, -0.08511773496866226, -0.19081565737724304, -0.41292133927345276, 0.6238712668418884, 0.19057179987430573, 0.07978586107492447, 0.3065505027770996, 0.12087416648864746, 0.13618093729019165, -0.1666736900806427, 0.5703001618385315, -0.30685657262802124, -0.17334696650505066, 0.07368480414152145, -0.22815477848052979, 0.13494795560836792, -0.4490984082221985, 0.12776654958724976, 0.8668184280395508, -0.014579805545508862, 0.25631657242774963]\n",
            "retrieved embedding: [[-0.10570487  0.13790806 -0.29611444 ...  0.86681843 -0.01457981\n",
            "   0.25631657]\n",
            " [ 0.32377037 -0.03722687 -0.69636118 ...  0.12958616 -0.4299742\n",
            "  -0.11625163]]\n"
          ]
        }
      ],
      "source": [
        "\n",
        "\n",
        "import chromadb\n",
        "from transformers import CLIPProcessor, CLIPVisionModelWithProjection, CLIPTextModelWithProjection\n",
        "from sklearn.preprocessing import normalize\n",
        "import numpy as np\n",
        "from PIL import Image\n",
        "import requests\n",
        "from sklearn.metrics.pairwise import cosine_distances\n",
        "\n",
        "import numpy as np\n",
        "\n",
        "\n",
        "def test_image_text_embedding_and_retrieval():\n",
        "    # Initialize CLIP models and processor\n",
        "    clip_processor = CLIPProcessor.from_pretrained(\"openai/clip-vit-base-patch32\")\n",
        "    clip_vision_model = CLIPVisionModelWithProjection.from_pretrained(\"openai/clip-vit-base-patch32\")\n",
        "    clip_text_model = CLIPTextModelWithProjection.from_pretrained(\"openai/clip-vit-base-patch32\")\n",
        "\n",
        "    # Example image URL and related sentence\n",
        "    image_url = \"http://images.cocodataset.org/val2017/000000039769.jpg\"  # can change\n",
        "    related_sentence = \"Two cats on a couch\"  # can change\n",
        "\n",
        "    # Load and embed the image\n",
        "    image = Image.open(requests.get(image_url, stream=True).raw)\n",
        "    image_inputs = clip_processor(images=image, return_tensors=\"pt\", padding=True)\n",
        "    image_outputs = clip_vision_model(**image_inputs)\n",
        "    image_embedding = image_outputs.image_embeds.squeeze(0).detach().numpy().tolist()\n",
        "\n",
        "    # Embed the related sentence\n",
        "    text_inputs = clip_processor(text=related_sentence, return_tensors=\"pt\", padding=True, truncation=True)\n",
        "    text_outputs = clip_text_model(**text_inputs)\n",
        "    text_embedding = text_outputs.text_embeds.squeeze(0).detach().numpy().tolist()\n",
        "\n",
        "\n",
        "    # Define a query (e.g., a sentence similar to the image)\n",
        "    query = \"This photo features two cats lying on a bright pink couch, appearing relaxed and comfortable. One cat is a fluffy, long-haired tabby with dark and light brown fur, stretched out with its paws extended and head slightly tilted. The other cat is a short-haired tabby with a more compact body, resting with its head down and legs stretched out. Two remote controls are placed on the couch near the cats, adding a cozy, homey touch to the scene. The vibrant pink fabric of the couch contrasts with the cats’ fur, making them stand out in the composition.\"  # can change\n",
        "\n",
        "    # Generate query embedding\n",
        "    query_inputs = clip_processor(text=query, return_tensors=\"pt\", padding=True, truncation=True)\n",
        "    query_outputs = clip_text_model(**query_inputs)\n",
        "    query_embedding = query_outputs.text_embeds.squeeze(0).detach().numpy().tolist()\n",
        "\n",
        "    # Normalize query embedding\n",
        "    query_embedding = normalize([query_embedding], norm=\"l2\")[0].tolist()\n",
        "\n",
        "    # Calculate cosine similarity before storing in ChromaDB\n",
        "    query_embedding_np = np.array(query_embedding).reshape(1, -1)\n",
        "    image_embedding_np = np.array(image_embedding).reshape(1, -1)\n",
        "    text_embedding_np = np.array(text_embedding).reshape(1, -1)\n",
        "\n",
        "    image_similarity_before = cosine_distances(query_embedding_np, image_embedding_np)[0][0]\n",
        "    text_similarity_before = cosine_distances(query_embedding_np, text_embedding_np)[0][0]\n",
        "\n",
        "    print(\"Cosine similarity before storing in ChromaDB:\")\n",
        "    print(f\"  Image similarity: {image_similarity_before}\")\n",
        "    print(f\"  Text similarity: {text_similarity_before}\")\n",
        "    print()\n",
        "\n",
        "\n",
        "    # Initialize ChromaDB client and collection\n",
        "    chroma_client = chromadb.Client()\n",
        "\n",
        "    collection = chroma_client.create_collection(name=\"fake_test_collection\", metadata={\"embedding_dimension\": 512})\n",
        "\n",
        "    # Add the image and text embeddings to the collection\n",
        "    collection.add(\n",
        "        documents=[image_url, related_sentence],  # Use image URL and sentence as documents\n",
        "        # metadatas=[{\"type\": \"image\"}, {\"type\": \"text\"}],  # Add metadata to distinguish between image and text\n",
        "        embeddings=[image_embedding, text_embedding],  # Add normalized embeddings\n",
        "        ids=[\"image_1\", \"text_1\"]  # Unique IDs for each document\n",
        "    )\n",
        "\n",
        "    # Query the collection\n",
        "    results = collection.query(\n",
        "        query_embeddings=[query_embedding],\n",
        "        n_results=2,  # Retrieve top 2 results\n",
        "    )\n",
        "\n",
        "    # Print the results\n",
        "    print(\"Query Results from ChromaDB:\")\n",
        "    for i, (document, metadata, distance) in enumerate(zip(results[\"documents\"][0], results[\"metadatas\"][0], results[\"distances\"][0])):\n",
        "        print(f\"Result {i + 1}:\")\n",
        "        print(f\"  Document: {document}\")\n",
        "        print(f\"  Metadata: {metadata}\")\n",
        "        print(f\"  Cosine Distance: {distance}\")  # Convert distance to similarity score\n",
        "        print()\n",
        "\n",
        "    retrieved_embedding = collection.get(include=[\"embeddings\"])[\"embeddings\"]\n",
        "    original_embedding = image_embedding\n",
        "\n",
        "    # Compare using NumPy\n",
        "    print(f\"original embedding: {original_embedding}\")\n",
        "    print(f\"retrieved embedding: {retrieved_embedding}\")\n",
        "\n",
        "\n",
        "# Run the test function\n",
        "test_image_text_embedding_and_retrieval()\n",
        "\n"
      ]
    }
  ],
  "metadata": {
    "colab": {
      "provenance": []
    },
    "kernelspec": {
      "display_name": "Python 3",
      "name": "python3"
    },
    "language_info": {
      "name": "python"
    }
  },
  "nbformat": 4,
  "nbformat_minor": 0
}
