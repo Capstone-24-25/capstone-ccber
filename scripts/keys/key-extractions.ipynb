{
 "cells": [
  {
   "cell_type": "code",
   "execution_count": 1,
   "id": "e5728414",
   "metadata": {},
   "outputs": [],
   "source": [
    "import os, sys\n",
    "import extraction_functions \n",
    "from pypdf import PdfReader\n",
    "import pandas as pd\n",
    "import re\n",
    "\n",
    "pdfpath = \"../../data/texts/bees-of-the-world.pdf\"\n",
    "text = PdfReader(pdfpath)"
   ]
  },
  {
   "cell_type": "code",
   "execution_count": null,
   "id": "5c99a90e",
   "metadata": {},
   "outputs": [],
   "source": [
    "#section 33\n",
    "\n",
    "p141 = extraction_functions.remove_before_after(text.pages[140].extract_text(), a_str = 'articu-')\n",
    "p142 = extraction_functions.remove_before_after(text.pages[141].extract_text(), b_str = 'lation')\n",
    "sec33 = p141 + \" \" + p142\n",
    "\n",
    "sec33_nodes = extraction_functions.clean_df(extraction_functions.extract_keys(sec33), 'sec33')\n",
    "sec33_term = extraction_functions.create_terminal_points(sec33_nodes)\n",
    "\n",
    "sec33_nodes"
   ]
  },
  {
   "cell_type": "code",
   "execution_count": null,
   "id": "d7ce84a1",
   "metadata": {},
   "outputs": [],
   "source": [
    "#section 35\n",
    "p146 = extraction_functions.remove_before_after(text.pages[145].extract_text(), b_str = '1. Scopa', a_str = '.. 13')\n",
    "p147 = extraction_functions.remove_before_after(text.pages[146].extract_text(), b_str = '13(12).')\n",
    "sec35 = p146 + \" \" + p147\n",
    "\n",
    "sec35_nodes = extraction_functions.clean_df(extraction_functions.extract_keys(sec35), 'sec35')\n",
    "sec35_term = extraction_functions.create_terminal_points(sec35_nodes)\n",
    "\n",
    "sec35_term"
   ]
  },
  {
   "cell_type": "code",
   "execution_count": null,
   "id": "62c19f18",
   "metadata": {},
   "outputs": [],
   "source": [
    "#section 36\n",
    "sec36 = extraction_functions.remove_before_after(text.pages[148].extract_text(), b_str = '1. T7', a_str = '..Stenotritus')\n",
    "\n",
    "sec36_nodes = extraction_functions.clean_df(extraction_functions.extract_keys(sec36), 'sec36', term = True)\n",
    "sec36_term = extraction_functions.create_terminal_points(sec36_nodes, term = True)\n",
    "\n",
    "sec36_term"
   ]
  },
  {
   "cell_type": "code",
   "execution_count": null,
   "id": "c4d96330",
   "metadata": {},
   "outputs": [],
   "source": [
    "#section 37\n",
    "p153 = extraction_functions.remove_before_after(text.pages[152].extract_text(), b_str = '1. Body', a_str = 'one-third as wide')\n",
    "p154 = extraction_functions.remove_before_after(text.pages[153].extract_text(), b_str = 'as long;', a_str = 'one-third as wide')\n",
    "sec37 = p153 + \" \" + p154\n",
    "\n",
    "sec37_nodes = extraction_functions.clean_df(extraction_functions.extract_keys(sec37), 'sec37')\n",
    "sec37_term = extraction_functions.create_terminal_points(sec37_nodes)\n",
    "\n",
    "sec37_nodes"
   ]
  },
  {
   "cell_type": "markdown",
   "id": "d9005694",
   "metadata": {},
   "source": [
    "new approach:"
   ]
  },
  {
   "cell_type": "code",
   "execution_count": null,
   "id": "dbefc6a7",
   "metadata": {},
   "outputs": [],
   "source": [
    "key_txt = \"../../data/texts/bees-of-the-world-keys.pdf\"\n",
    "pdf = PdfReader(key_txt)\n",
    "\n",
    "\n",
    "start_end = pd.read_csv(\"../../data/maps/section_start_end.csv\", encoding = \"cp1252\", nrows=408)\n",
    "additional = pd.read_csv(\"../../data/maps/start_end_extra.csv\", index_col = 'index')\n",
    "pages = pd.concat([start_end, additional])\n",
    "num = pages['new_page'].tolist()\n",
    "\n",
    "\n",
    "for i in range(len(pages)):\n",
    "    t = extraction_functions.remove_before_after(pdf.pages[num[i] - 1].extract_text(), pages.loc[i]['start'], pages.loc[i]['end'])\n",
    "    pages.loc[i, 'text'] = t"
   ]
  },
  {
   "cell_type": "code",
   "execution_count": null,
   "id": "b20d0e2e",
   "metadata": {},
   "outputs": [],
   "source": [
    "extraction_functions.remove_before_after(pdf.pages[248].extract_text(), pages.loc[205]['start'], '.. Pseudepeolus')"
   ]
  },
  {
   "cell_type": "code",
   "execution_count": null,
   "id": "1555f02f",
   "metadata": {},
   "outputs": [],
   "source": [
    "pages = pd.read_csv('../../data/texts/bees-of-the-world-keys.csv', encoding = 'utf-8-sig').drop(columns=['index'])\n",
    "\n",
    "sections = pages.groupby('section')['text'].apply(' '.join).reset_index()\n",
    "sections['page_numbers'] = pages.groupby('section')['page'].apply(lambda x: list(x)).reset_index(drop = True)"
   ]
  },
  {
   "cell_type": "code",
   "execution_count": null,
   "id": "b3c63eb9",
   "metadata": {},
   "outputs": [],
   "source": [
    "raw_keys = pd.read_csv(\"../../data/keys/bees-of-the-world-tree-texts.csv\", encoding = 'utf-8-sig').drop(columns = ['id'])\n",
    "\n",
    "raw_keys['subsection_num'] = raw_keys.groupby('section_num').cumcount() + 1\n",
    "raw_keys['id'] = \"sec\" + raw_keys['section_num'].astype(str) + \"-\" + raw_keys['subsection_num'].astype(str)\n",
    "raw_keys = raw_keys.drop(columns = ['section_num', 'subsection_num'])\n",
    "\n",
    "def extract_title(text):\n",
    "    match = re.search(r'^(.*?)\\n1\\.', text, re.DOTALL)\n",
    "    if match:\n",
    "        return match.group(1).strip().replace('\\n', '')\n",
    "    else:\n",
    "        return None\n",
    "\n",
    "raw_keys['title'] = raw_keys['text'].astype(str).apply(extract_title)\n",
    "raw_keys['tree_level'] = raw_keys['tree_level'].str.rstrip('s').str.lower()\n",
    "raw_keys = raw_keys.map(lambda x: x.replace('T ribe', \"Tribe\") if isinstance(x, str) else x)\n",
    "\n",
    "raw_keys.to_csv('../../data/keys/raw_key_index.csv', index = False, encoding = 'utf-8-sig')"
   ]
  },
  {
   "cell_type": "code",
   "execution_count": null,
   "id": "83d144a1",
   "metadata": {},
   "outputs": [],
   "source": [
    "raw_keys = pd.read_csv('../../data/keys/raw_key_index.csv', encoding = 'utf-8-sig')\n",
    "\n",
    "x = extraction_functions.clean_df(extraction_functions.extract_keys(raw_keys['text'][5]), raw_keys['id'][5])\n",
    "\n",
    "y = extraction_functions.extract_keys(raw_keys['text'][5])\n",
    "\n",
    "\n",
    "raw_keys[raw_keys['tree_level'] == 'subgenera']"
   ]
  },
  {
   "cell_type": "code",
   "execution_count": null,
   "id": "47bdef19",
   "metadata": {},
   "outputs": [],
   "source": [
    "here"
   ]
  },
  {
   "cell_type": "code",
   "execution_count": 2,
   "id": "4978ee3d",
   "metadata": {},
   "outputs": [],
   "source": [
    "raw_keys = pd.read_csv('../../data/keys/raw_key_index.csv', encoding = 'utf-8-sig')\n",
    "\n",
    "for i in range(len(raw_keys)):\n",
    "    if raw_keys.loc[i, 'tree_level'] in ['family', 'subfamily', 'tribe']:\n",
    "        nodes = extraction_functions.clean_df(extraction_functions.extract_keys(raw_keys['text'][i]), raw_keys['id'][i])\n",
    "        terminal_nodes = extraction_functions.create_terminal_points(nodes)\n",
    "\n",
    "    elif raw_keys.loc[i, 'tree_level'] in ['genera', 'subgenera', 'group']:\n",
    "        nodes = extraction_functions.clean_df_mod(extraction_functions.extract_keys(raw_keys['text'][i]), raw_keys['id'][i])\n",
    "        terminal_nodes = extraction_functions.create_terminal_points(nodes)\n",
    "\n",
    "    nodes.to_csv(f\"../../data/keys/nodes/{raw_keys['id'][i]}-nodes.csv\", encoding = 'utf-8-sig', index = False)\n",
    "    terminal_nodes.to_csv(f\"../../data/keys/terminal-nodes/{raw_keys['id'][i]}-terminalnodes.csv\", encoding = 'utf-8-sig', index = False)"
   ]
  },
  {
   "cell_type": "code",
   "execution_count": 41,
   "id": "e03c32b6",
   "metadata": {},
   "outputs": [
    {
     "name": "stdout",
     "output_type": "stream",
     "text": [
      "Characteristics to the Neotropical Subgenera T . (Frieseomelitta) of Trigona:\n",
      "- Mandible of worker with lower half or two-thirds of distal margin edentate, upper part of margin with one or usually two teeth; inner surface of hind basitarsus of males without basal sericeous area, that of workers, variable\n",
      "- Metasoma usually narrower than thorax, often noticeably elongate; upper margin of hind tibia of worker with numerous strongly plumose hairs (Fig. 120-11a), usually with abundant branches toward apices; yellowish or reddish markings present on face of some species; vein M of forewing usually fading away near widest part of wing\n",
      "- Inner surface of hind basitarsus of worker without basal sericeous area, rather uniformly setose\n",
      "- Posterior margin of vertex not elevated; upper distal angle of hind tibia of worker broadly rounded\n",
      "- Labial palpi with large, sinuous setae on ﬁrst two segments (Fig. 120-12e)\n"
     ]
    }
   ],
   "source": [
    "def split_on(text):\n",
    "    if \"of the\" in text:\n",
    "        return text.split(\"of the\", 1)\n",
    "    elif \"of\" in text:\n",
    "        return text.split(\"of\", 1)\n",
    "    else:\n",
    "        return [text]\n",
    "    \n",
    "def insert_after_word(original_string, word, string_to_insert):\n",
    "    index = original_string.find(word)\n",
    "    if index == -1:\n",
    "        return original_string\n",
    "    else:\n",
    "        return original_string[:index + len(word)] + string_to_insert + original_string[index + len(word):]\n",
    "    \n",
    "def reformat_genera_title(title, term_node, tree_level):\n",
    "    if \"Key\" in title:\n",
    "        new_title = title.replace(\"Key\", \"Characteristics\")\n",
    "    elif \"Keys\" in title:\n",
    "        new_title = title.replace(\"Keys\", \"Characteristics\")\n",
    "    \n",
    "    if tree_level == 'genera':\n",
    "        new_title = insert_after_word(new_title, \"Genera\", \" \" + term_node)\n",
    "    elif tree_level == 'subgenera':\n",
    "        new_title = insert_after_word(new_title, \"Subgenera\", \" \" + term_node)\n",
    "    elif tree_level == 'group':\n",
    "        new_title = insert_after_word(new_title, \"Groups\", \" \" + term_node)\n",
    "\n",
    "    return new_title\n",
    "\n",
    "def get_description(term_node):\n",
    "    row = df_terminal[df_terminal['description'] == term_node]\n",
    "    if row.empty:\n",
    "        return None\n",
    "    \n",
    "    node_id = row.iloc[0]['id']\n",
    "    path = []\n",
    "\n",
    "    while node_id in parent_map:\n",
    "        parent_id, decision_text = parent_map[node_id]\n",
    "        if decision_text:\n",
    "            path.append(f\"- {decision_text.strip()}\")\n",
    "        node_id = parent_id\n",
    "\n",
    "    return \"\\n\".join(reversed(path))\n",
    "\n",
    "def create_description(term_node):\n",
    "    sec = os.path.basename(node_path).replace(\"-nodes.csv\", \"\")\n",
    "    if raw_keys.loc[raw_keys['id'] == sec, 'tree_level'].iloc[0] == 'family':\n",
    "        desc = f\"Characteristics of the Family {term_node},\" + raw_keys.loc[raw_keys['id'] == sec, 'title'].iloc[0].split(',')[1] + \":\\n\"\n",
    "    \n",
    "    elif raw_keys.loc[raw_keys['id'] == sec, 'tree_level'].iloc[0] == 'subfamily':\n",
    "        desc = f\"Characteristics of the Subfamily {term_node},\" + \" of the\" + split_on(raw_keys.loc[raw_keys['id'] == sec, 'title'].iloc[0])[1] + \":\\n\"\n",
    "\n",
    "    elif raw_keys.loc[raw_keys['id'] == sec, 'tree_level'].iloc[0] == 'tribe':\n",
    "        desc = f\"Characteristics of the Tribe {term_node},\" + \" of the\" + split_on(raw_keys.loc[raw_keys['id'] == sec, 'title'].iloc[0])[1] + \":\\n\"\n",
    "    elif raw_keys.loc[raw_keys['id'] == sec, 'tree_level'].iloc[0] in ['genera', 'subgenera', 'group']:\n",
    "        desc = reformat_genera_title(raw_keys.loc[raw_keys['id'] == sec, 'title'].iloc[0], term_node, raw_keys.loc[raw_keys['id'] == sec, 'tree_level'].iloc[0]) + \":\\n\"\n",
    "    return desc\n",
    "\n",
    "\n",
    "print(create_description('T . (Frieseomelitta)') + get_description('T . (Frieseomelitta)'))"
   ]
  },
  {
   "cell_type": "code",
   "execution_count": 34,
   "id": "2b40ed63",
   "metadata": {},
   "outputs": [],
   "source": [
    "full_term_nodes = pd.DataFrame(columns = ['id', 'description', 'parent'])\n",
    "\n",
    "for i in range(len(raw_keys)):\n",
    "    current_path = f\"../../data/keys/terminal-nodes/{raw_keys['id'][i]}-terminalnodes.csv\"\n",
    "    current = pd.read_csv(current_path, encoding = 'utf-8-sig')\n",
    "    current['tree_id'] = raw_keys['id'][i]\n",
    "    full_term_nodes = pd.concat([full_term_nodes, current], ignore_index = True)\n",
    "\n",
    "full_term_nodes.dropna().to_csv(\"../../data/keys/full_terminal_nodes.csv\", index = False, encoding = 'utf-8-sig')"
   ]
  },
  {
   "cell_type": "code",
   "execution_count": 45,
   "id": "ce4a5e53",
   "metadata": {},
   "outputs": [],
   "source": [
    "full_term_nodes = pd.read_csv(\"../../data/keys/full_terminal_nodes.csv\", encoding = 'utf-8-sig')\n",
    "\n",
    "for i in range(len(full_term_nodes)):\n",
    "    node_path = f\"../../data/keys/nodes/{full_term_nodes.loc[i, 'tree_id']}-nodes.csv\"\n",
    "    term_path = f\"../../data/keys/terminal-nodes/{full_term_nodes.loc[i, 'tree_id']}-terminalnodes.csv\"\n",
    "\n",
    "    df_nodes = pd.read_csv(node_path)\n",
    "    df_terminal = pd.read_csv(term_path)\n",
    "\n",
    "    parent_map = {}\n",
    "\n",
    "    for _, row in df_nodes.iterrows():\n",
    "        if pd.notna(row['left_target']):\n",
    "            parent_map[row['left_target']] = (row['id'], row['left_text'])\n",
    "        if pd.notna(row['right_target']):\n",
    "            parent_map[row['right_target']] = (row['id'], row['right_text'])\n",
    "\n",
    "    for _, row in df_terminal.iterrows():\n",
    "        if row['id'] not in parent_map:\n",
    "            parent_map[row['id']] = (row['parent'], None)\n",
    "\n",
    "    x = create_description(full_term_nodes.loc[i, 'description'])\n",
    "    y = get_description(full_term_nodes.loc[i, 'description'])\n",
    "    \n",
    "    full_term_nodes.loc[i, 'characteristics'] = x + y\n",
    "\n",
    "full_term_nodes.to_csv(\"../../data/keys/full_descriptions.csv\", index = False, encoding = 'utf-8-sig')"
   ]
  },
  {
   "cell_type": "code",
   "execution_count": 52,
   "id": "119f031a",
   "metadata": {},
   "outputs": [],
   "source": [
    "desc = pd.read_csv(\"../../data/keys/full_descriptions.csv\", encoding = 'utf-8-sig')\n",
    "\n",
    "with open(\"../../data/texts/bees-of-the-world-key-descriptions.txt\", \"a\", encoding = 'utf-8-sig') as file:\n",
    "    for i in range(len(desc)):\n",
    "        file.write(\"=====\\n\")\n",
    "        file.write(desc['characteristics'][i])\n",
    "        file.write(\"\\n\")"
   ]
  }
 ],
 "metadata": {
  "kernelspec": {
   "display_name": "Python 3",
   "language": "python",
   "name": "python3"
  },
  "language_info": {
   "codemirror_mode": {
    "name": "ipython",
    "version": 3
   },
   "file_extension": ".py",
   "mimetype": "text/x-python",
   "name": "python",
   "nbconvert_exporter": "python",
   "pygments_lexer": "ipython3",
   "version": "3.13.1"
  }
 },
 "nbformat": 4,
 "nbformat_minor": 5
}
